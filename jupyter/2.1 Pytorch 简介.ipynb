{
 "metadata": {
  "language_info": {
   "codemirror_mode": {
    "name": "ipython",
    "version": 3
   },
   "file_extension": ".py",
   "mimetype": "text/x-python",
   "name": "python",
   "nbconvert_exporter": "python",
   "pygments_lexer": "ipython3",
   "version": "3.9.0-final"
  },
  "orig_nbformat": 2,
  "kernelspec": {
   "name": "python3",
   "display_name": "Python 3.9.0 64-bit",
   "metadata": {
    "interpreter": {
     "hash": "12c989a2272087144a907f3af46e789b70a90abf7fd5b4372cac90cccd9eaa13"
    }
   }
  }
 },
 "nbformat": 4,
 "nbformat_minor": 2,
 "cells": [
  {
   "source": [
    "# Deep learning for NLP\n",
    "\n",
    "本次课的主要内容：\n",
    "- 简要了解pytorch，以及训练深度模型的步骤\n",
    "- 使用LSTM进行语言建模\n",
    "- 使用TextCNN进行文本分类"
   ],
   "cell_type": "markdown",
   "metadata": {}
  },
  {
   "source": [
    "## 1. Pytorch\n",
    "\n",
    "官网：https://pytorch.org/\n",
    "\n",
    "- tensor\n",
    "- 自动求导\n",
    "- 深度学习流程\n",
    "    - 加载数据\n",
    "    - 建立模型\n",
    "    - 选择优化器\n",
    "    - 训练\n",
    "    - 保存和加载模型\n",
    "\n",
    "参考：\n",
    "- https://pytorch.org/tutorials/beginner/basics/tensorqs_tutorial.html\n",
    "- https://pytorch.org/tutorials/beginner/basics/quickstart_tutorial.html"
   ],
   "cell_type": "markdown",
   "metadata": {}
  },
  {
   "cell_type": "code",
   "execution_count": 4,
   "metadata": {},
   "outputs": [
    {
     "output_type": "stream",
     "name": "stdout",
     "text": [
      "1.8.0\nTrue\n1\n"
     ]
    }
   ],
   "source": [
    "import torch\n",
    "\n",
    "print(torch.__version__)\n",
    "print(torch.cuda.is_available())\n",
    "print(torch.cuda.device_count())"
   ]
  },
  {
   "cell_type": "code",
   "execution_count": 5,
   "metadata": {},
   "outputs": [
    {
     "output_type": "stream",
     "name": "stdout",
     "text": [
      "tensor([[1, 2],\n        [3, 4]])\ntorch.Size([2, 2])\ntorch.int64\ncpu\ntensor([[1, 3],\n        [2, 4]])\n"
     ]
    }
   ],
   "source": [
    "data = [[1, 2], [3, 4]]\n",
    "x_data = torch.tensor(data)\n",
    "\n",
    "print(x_data)\n",
    "print(x_data.shape)\n",
    "print(x_data.dtype)\n",
    "print(x_data.device)\n",
    "\n",
    "print(x_data.t())"
   ]
  },
  {
   "cell_type": "code",
   "execution_count": 6,
   "metadata": {},
   "outputs": [
    {
     "output_type": "stream",
     "name": "stdout",
     "text": [
      "tensor([[1, 2],\n        [3, 4]], device='cuda:0')\ncuda:0\n"
     ]
    }
   ],
   "source": [
    "x_data_cuda = x_data.cuda()\n",
    "\n",
    "print(x_data_cuda)\n",
    "print(x_data_cuda.device)"
   ]
  },
  {
   "source": [
    "**一个简单的例子**: 逻辑回归\n",
    "\n",
    "<img src='img/逻辑回归.JPG' width=500>"
   ],
   "cell_type": "markdown",
   "metadata": {}
  },
  {
   "cell_type": "code",
   "execution_count": 7,
   "metadata": {},
   "outputs": [
    {
     "output_type": "stream",
     "name": "stdout",
     "text": [
      "tensor([[0., 0.],\n        [0., 1.],\n        [1., 0.],\n        [1., 1.]])\ntensor([[0],\n        [0],\n        [0],\n        [1]])\n"
     ]
    }
   ],
   "source": [
    "x = torch.tensor([[0., 0.],\n",
    "                  [0., 1.],\n",
    "                  [1., 0.],\n",
    "                  [1., 1.]])\n",
    "y = torch.tensor([[0], [0], [0], [1]])\n",
    "\n",
    "print(x)\n",
    "print(y)"
   ]
  },
  {
   "cell_type": "code",
   "execution_count": 8,
   "metadata": {},
   "outputs": [
    {
     "output_type": "stream",
     "name": "stdout",
     "text": [
      "Iter  1, loss: 0.7826, accuracy: 0.25\nIter  2, loss: 0.7686, accuracy: 0.25\nIter  3, loss: 0.7555, accuracy: 0.25\nIter  4, loss: 0.7431, accuracy: 0.25\nIter  5, loss: 0.7315, accuracy: 0.25\nIter  6, loss: 0.7207, accuracy: 0.25\nIter  7, loss: 0.7105, accuracy: 0.25\nIter  8, loss: 0.7009, accuracy: 0.25\nIter  9, loss: 0.6919, accuracy: 0.50\nIter 10, loss: 0.6834, accuracy: 0.50\nIter 11, loss: 0.6754, accuracy: 0.50\nIter 12, loss: 0.6678, accuracy: 0.75\nIter 13, loss: 0.6607, accuracy: 0.75\nIter 14, loss: 0.6540, accuracy: 0.75\nIter 15, loss: 0.6477, accuracy: 0.75\nIter 16, loss: 0.6417, accuracy: 0.75\nIter 17, loss: 0.6360, accuracy: 0.75\nIter 18, loss: 0.6306, accuracy: 0.75\nIter 19, loss: 0.6254, accuracy: 1.00\nIter 20, loss: 0.6205, accuracy: 1.00\n"
     ]
    }
   ],
   "source": [
    "import torch.nn.functional as F\n",
    "\n",
    "seed = 42\n",
    "torch.manual_seed(seed)\n",
    "torch.cuda.manual_seed(seed)\n",
    "\n",
    "w = torch.randn(2, 1)\n",
    "b = torch.randn(1)\n",
    "\n",
    "n_iter = 20\n",
    "learning_rate = 0.1\n",
    "\n",
    "for i in range(n_iter):\n",
    "    # (4,2) @ (2,1) + (1,) = (4,1)\n",
    "    z = x @ w + b\n",
    "    y_hat = torch.sigmoid(z)\n",
    "\n",
    "    loss = F.binary_cross_entropy(y_hat, y.float())\n",
    "    accuracy = ((y_hat > 0.5) == y).float().mean()\n",
    "    print(f'Iter {i+1:2d}, loss: {loss:.4f}, accuracy: {accuracy:.2f}')\n",
    "\n",
    "    # (2,4) @ (4, 1) = (2, 1)\n",
    "    gradient_w = x.t() @ (y_hat - y) / x.size(0)\n",
    "    gradient_b = (y_hat-y).mean()\n",
    "\n",
    "    w = w - learning_rate * gradient_w\n",
    "    b = b - learning_rate * gradient_b"
   ]
  },
  {
   "cell_type": "code",
   "execution_count": 9,
   "metadata": {},
   "outputs": [
    {
     "output_type": "stream",
     "name": "stdout",
     "text": [
      "Iter  1, loss: 0.7826, accuracy: 0.25\nIter  2, loss: 0.7686, accuracy: 0.25\nIter  3, loss: 0.7555, accuracy: 0.25\nIter  4, loss: 0.7431, accuracy: 0.25\nIter  5, loss: 0.7315, accuracy: 0.25\nIter  6, loss: 0.7207, accuracy: 0.25\nIter  7, loss: 0.7105, accuracy: 0.25\nIter  8, loss: 0.7009, accuracy: 0.25\nIter  9, loss: 0.6919, accuracy: 0.50\nIter 10, loss: 0.6834, accuracy: 0.50\nIter 11, loss: 0.6754, accuracy: 0.50\nIter 12, loss: 0.6678, accuracy: 0.75\nIter 13, loss: 0.6607, accuracy: 0.75\nIter 14, loss: 0.6540, accuracy: 0.75\nIter 15, loss: 0.6477, accuracy: 0.75\nIter 16, loss: 0.6417, accuracy: 0.75\nIter 17, loss: 0.6360, accuracy: 0.75\nIter 18, loss: 0.6306, accuracy: 0.75\nIter 19, loss: 0.6254, accuracy: 1.00\nIter 20, loss: 0.6205, accuracy: 1.00\n"
     ]
    }
   ],
   "source": [
    "seed = 42\n",
    "torch.manual_seed(seed)\n",
    "torch.cuda.manual_seed(seed)\n",
    "\n",
    "w = torch.randn(2, 1, requires_grad=True)\n",
    "b = torch.randn(1, requires_grad=True)\n",
    "\n",
    "n_iter = 20\n",
    "learning_rate = 0.1\n",
    "\n",
    "for i in range(n_iter):\n",
    "    # (4,2) @ (2,1) + (1,) = (4,1)\n",
    "    z = x @ w + b\n",
    "    y_hat = torch.sigmoid(z)\n",
    "\n",
    "    loss = F.binary_cross_entropy(y_hat, y.float())\n",
    "    accuracy = ((y_hat > 0.5) == y).float().mean()\n",
    "    print(f'Iter {i+1:2d}, loss: {loss:.4f}, accuracy: {accuracy:.2f}')\n",
    "\n",
    "    # 清空梯度\n",
    "    w.grad = None\n",
    "    b.grad = None\n",
    "\n",
    "    # 反向传播\n",
    "    loss.backward()\n",
    "\n",
    "    # gradient_w = x.t() @ (y_hat - y) / x.size(0)\n",
    "    # gradient_b = (y_hat-y).mean()\n",
    "\n",
    "    w.data = w.data - learning_rate * w.grad\n",
    "    b.data = b.data - learning_rate * b.grad"
   ]
  },
  {
   "cell_type": "code",
   "execution_count": 10,
   "metadata": {
    "tags": []
   },
   "outputs": [
    {
     "output_type": "stream",
     "name": "stdout",
     "text": [
      "Iter  1, loss: 0.6903, accuracy: 0.50\nIter  2, loss: 0.6774, accuracy: 0.50\nIter  3, loss: 0.6652, accuracy: 0.50\nIter  4, loss: 0.6538, accuracy: 0.50\nIter  5, loss: 0.6432, accuracy: 0.50\nIter  6, loss: 0.6332, accuracy: 0.50\nIter  7, loss: 0.6238, accuracy: 0.50\nIter  8, loss: 0.6150, accuracy: 0.50\nIter  9, loss: 0.6068, accuracy: 0.50\nIter 10, loss: 0.5990, accuracy: 0.50\nIter 11, loss: 0.5918, accuracy: 0.50\nIter 12, loss: 0.5849, accuracy: 0.75\nIter 13, loss: 0.5785, accuracy: 1.00\nIter 14, loss: 0.5725, accuracy: 1.00\nIter 15, loss: 0.5668, accuracy: 1.00\nIter 16, loss: 0.5614, accuracy: 1.00\nIter 17, loss: 0.5563, accuracy: 1.00\nIter 18, loss: 0.5515, accuracy: 1.00\nIter 19, loss: 0.5470, accuracy: 1.00\nIter 20, loss: 0.5426, accuracy: 1.00\n"
     ]
    }
   ],
   "source": [
    "from torch import nn\n",
    "\n",
    "seed = 42\n",
    "torch.manual_seed(seed)\n",
    "torch.cuda.manual_seed(seed)\n",
    "\n",
    "# w = torch.randn(2, 1, requires_grad=True)\n",
    "# b = torch.randn(1, requires_grad=True)\n",
    "# nn.Linear: pytorch封装好的线性层\n",
    "model = nn.Linear(in_features=2, out_features=1)\n",
    "\n",
    "n_iter = 20\n",
    "learning_rate = 0.1\n",
    "\n",
    "for i in range(n_iter):\n",
    "    # (4,2) @ (2,1) + (1,) = (4,1)\n",
    "    z = model(x)\n",
    "    y_hat = torch.sigmoid(z)\n",
    "\n",
    "    loss = F.binary_cross_entropy(y_hat, y.float())\n",
    "    accuracy = ((y_hat > 0.5) == y).float().mean()\n",
    "    print(f'Iter {i+1:2d}, loss: {loss:.4f}, accuracy: {accuracy:.2f}')\n",
    "\n",
    "    # 清空梯度\n",
    "    # w.grad = None\n",
    "    # b.grad = None\n",
    "    model.zero_grad()\n",
    "\n",
    "    # 反向传播\n",
    "    loss.backward()\n",
    "\n",
    "    # gradient_w = x.t() @ (y_hat - y) / x.size(0)\n",
    "    # gradient_b = (y_hat-y).mean()\n",
    "\n",
    "    # 可以给每个模型绑定一个optimizer，\n",
    "    # 然后将这一步由 optimizer.step() 代替\n",
    "    model.weight.data = model.weight.data - learning_rate * model.weight.grad\n",
    "    model.bias.data = model.bias.data - learning_rate * model.bias.grad"
   ]
  },
  {
   "source": [
    "**一个更加正式的例子**\n",
    "\n",
    "- 加载数据\n",
    "- 建立模型\n",
    "- 选择优化器\n",
    "- 训练\n",
    "- 保存和加载模型"
   ],
   "cell_type": "markdown",
   "metadata": {}
  },
  {
   "cell_type": "code",
   "execution_count": 11,
   "metadata": {},
   "outputs": [
    {
     "output_type": "stream",
     "name": "stdout",
     "text": [
      "Downloading http://fashion-mnist.s3-website.eu-central-1.amazonaws.com/train-images-idx3-ubyte.gz to data\\FashionMNIST\\raw\\train-images-idx3-ubyte.gz\n",
      "26422272it [00:06, 4134708.60it/s]                              \n",
      "Extracting data\\FashionMNIST\\raw\\train-images-idx3-ubyte.gz to data\\FashionMNIST\\raw\n",
      "Downloading http://fashion-mnist.s3-website.eu-central-1.amazonaws.com/train-labels-idx1-ubyte.gz to data\\FashionMNIST\\raw\\train-labels-idx1-ubyte.gz\n",
      "29696it [00:00, 170743.61it/s]                          \n",
      "Extracting data\\FashionMNIST\\raw\\train-labels-idx1-ubyte.gz to data\\FashionMNIST\\raw\n",
      "Downloading http://fashion-mnist.s3-website.eu-central-1.amazonaws.com/t10k-images-idx3-ubyte.gz to data\\FashionMNIST\\raw\\t10k-images-idx3-ubyte.gz\n",
      "4422656it [00:01, 2889615.35it/s]                             \n",
      "Extracting data\\FashionMNIST\\raw\\t10k-images-idx3-ubyte.gz to data\\FashionMNIST\\raw\n",
      "Downloading http://fashion-mnist.s3-website.eu-central-1.amazonaws.com/t10k-labels-idx1-ubyte.gz to data\\FashionMNIST\\raw\\t10k-labels-idx1-ubyte.gz\n",
      "6144it [00:00, 2054516.76it/s]          \n",
      "C:\\Users\\zhang\\AppData\\Local\\Programs\\Python\\Python39\\lib\\site-packages\\torchvision\\datasets\\mnist.py:479: UserWarning: The given NumPy array is not writeable, and PyTorch does not support non-writeable tensors. This means you can write to the underlying (supposedly non-writeable) NumPy array using the tensor. You may want to copy the array to protect its data or make it writeable before converting it to a tensor. This type of warning will be suppressed for the rest of this program. (Triggered internally at  ..\\torch\\csrc\\utils\\tensor_numpy.cpp:143.)\n",
      "  return torch.from_numpy(parsed.astype(m[2], copy=False)).view(*s)\n",
      "Extracting data\\FashionMNIST\\raw\\t10k-labels-idx1-ubyte.gz to data\\FashionMNIST\\raw\n",
      "Processing...\n",
      "Done!\n"
     ]
    }
   ],
   "source": [
    "from torchvision import datasets\n",
    "from torchvision.transforms import ToTensor\n",
    "\n",
    "\n",
    "# 加载数据\n",
    "training_data = datasets.FashionMNIST(\n",
    "    root='data',\n",
    "    train=True,\n",
    "    download=True,\n",
    "    transform=ToTensor()\n",
    ")\n",
    "\n",
    "test_data = datasets.FashionMNIST(\n",
    "    root='data',\n",
    "    train=False,\n",
    "    download=True,\n",
    "    transform=ToTensor()\n",
    ")"
   ]
  },
  {
   "cell_type": "code",
   "execution_count": 12,
   "metadata": {},
   "outputs": [
    {
     "output_type": "execute_result",
     "data": {
      "text/plain": [
       "<matplotlib.image.AxesImage at 0x1b5694bf550>"
      ]
     },
     "metadata": {},
     "execution_count": 12
    },
    {
     "output_type": "display_data",
     "data": {
      "text/plain": "<Figure size 432x288 with 1 Axes>",
      "image/svg+xml": "<?xml version=\"1.0\" encoding=\"utf-8\" standalone=\"no\"?>\r\n<!DOCTYPE svg PUBLIC \"-//W3C//DTD SVG 1.1//EN\"\r\n  \"http://www.w3.org/Graphics/SVG/1.1/DTD/svg11.dtd\">\r\n<!-- Created with matplotlib (https://matplotlib.org/) -->\r\n<svg height=\"263.63625pt\" version=\"1.1\" viewBox=\"0 0 251.565 263.63625\" width=\"251.565pt\" xmlns=\"http://www.w3.org/2000/svg\" xmlns:xlink=\"http://www.w3.org/1999/xlink\">\r\n <metadata>\r\n  <rdf:RDF xmlns:cc=\"http://creativecommons.org/ns#\" xmlns:dc=\"http://purl.org/dc/elements/1.1/\" xmlns:rdf=\"http://www.w3.org/1999/02/22-rdf-syntax-ns#\">\r\n   <cc:Work>\r\n    <dc:type rdf:resource=\"http://purl.org/dc/dcmitype/StillImage\"/>\r\n    <dc:date>2021-03-30T10:45:03.879253</dc:date>\r\n    <dc:format>image/svg+xml</dc:format>\r\n    <dc:creator>\r\n     <cc:Agent>\r\n      <dc:title>Matplotlib v3.3.2, https://matplotlib.org/</dc:title>\r\n     </cc:Agent>\r\n    </dc:creator>\r\n   </cc:Work>\r\n  </rdf:RDF>\r\n </metadata>\r\n <defs>\r\n  <style type=\"text/css\">*{stroke-linecap:butt;stroke-linejoin:round;}</style>\r\n </defs>\r\n <g id=\"figure_1\">\r\n  <g id=\"patch_1\">\r\n   <path d=\"M 0 263.63625 \r\nL 251.565 263.63625 \r\nL 251.565 0 \r\nL 0 0 \r\nz\r\n\" style=\"fill:none;\"/>\r\n  </g>\r\n  <g id=\"axes_1\">\r\n   <g id=\"patch_2\">\r\n    <path d=\"M 26.925 239.758125 \r\nL 244.365 239.758125 \r\nL 244.365 22.318125 \r\nL 26.925 22.318125 \r\nz\r\n\" style=\"fill:#ffffff;\"/>\r\n   </g>\r\n   <g clip-path=\"url(#pd75964c291)\">\r\n    <image height=\"218\" id=\"imageb02644d6ab\" transform=\"scale(1 -1)translate(0 -218)\" width=\"218\" x=\"26.925\" xlink:href=\"data:image/png;base64,\r\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\" y=\"-21.758125\"/>\r\n   </g>\r\n   <g id=\"matplotlib.axis_1\">\r\n    <g id=\"xtick_1\">\r\n     <g id=\"line2d_1\">\r\n      <defs>\r\n       <path d=\"M 0 0 \r\nL 0 3.5 \r\n\" id=\"m00fa515fb4\" style=\"stroke:#000000;stroke-width:0.8;\"/>\r\n      </defs>\r\n      <g>\r\n       <use style=\"stroke:#000000;stroke-width:0.8;\" x=\"30.807857\" xlink:href=\"#m00fa515fb4\" y=\"239.758125\"/>\r\n      </g>\r\n     </g>\r\n     <g id=\"text_1\">\r\n      <!-- 0 -->\r\n      <g transform=\"translate(27.626607 254.356563)scale(0.1 -0.1)\">\r\n       <defs>\r\n        <path d=\"M 31.78125 66.40625 \r\nQ 24.171875 66.40625 20.328125 58.90625 \r\nQ 16.5 51.421875 16.5 36.375 \r\nQ 16.5 21.390625 20.328125 13.890625 \r\nQ 24.171875 6.390625 31.78125 6.390625 \r\nQ 39.453125 6.390625 43.28125 13.890625 \r\nQ 47.125 21.390625 47.125 36.375 \r\nQ 47.125 51.421875 43.28125 58.90625 \r\nQ 39.453125 66.40625 31.78125 66.40625 \r\nz\r\nM 31.78125 74.21875 \r\nQ 44.046875 74.21875 50.515625 64.515625 \r\nQ 56.984375 54.828125 56.984375 36.375 \r\nQ 56.984375 17.96875 50.515625 8.265625 \r\nQ 44.046875 -1.421875 31.78125 -1.421875 \r\nQ 19.53125 -1.421875 13.0625 8.265625 \r\nQ 6.59375 17.96875 6.59375 36.375 \r\nQ 6.59375 54.828125 13.0625 64.515625 \r\nQ 19.53125 74.21875 31.78125 74.21875 \r\nz\r\n\" id=\"DejaVuSans-48\"/>\r\n       </defs>\r\n       <use xlink:href=\"#DejaVuSans-48\"/>\r\n      </g>\r\n     </g>\r\n    </g>\r\n    <g id=\"xtick_2\">\r\n     <g id=\"line2d_2\">\r\n      <g>\r\n       <use style=\"stroke:#000000;stroke-width:0.8;\" x=\"69.636429\" xlink:href=\"#m00fa515fb4\" y=\"239.758125\"/>\r\n      </g>\r\n     </g>\r\n     <g id=\"text_2\">\r\n      <!-- 5 -->\r\n      <g transform=\"translate(66.455179 254.356563)scale(0.1 -0.1)\">\r\n       <defs>\r\n        <path d=\"M 10.796875 72.90625 \r\nL 49.515625 72.90625 \r\nL 49.515625 64.59375 \r\nL 19.828125 64.59375 \r\nL 19.828125 46.734375 \r\nQ 21.96875 47.46875 24.109375 47.828125 \r\nQ 26.265625 48.1875 28.421875 48.1875 \r\nQ 40.625 48.1875 47.75 41.5 \r\nQ 54.890625 34.8125 54.890625 23.390625 \r\nQ 54.890625 11.625 47.5625 5.09375 \r\nQ 40.234375 -1.421875 26.90625 -1.421875 \r\nQ 22.3125 -1.421875 17.546875 -0.640625 \r\nQ 12.796875 0.140625 7.71875 1.703125 \r\nL 7.71875 11.625 \r\nQ 12.109375 9.234375 16.796875 8.0625 \r\nQ 21.484375 6.890625 26.703125 6.890625 \r\nQ 35.15625 6.890625 40.078125 11.328125 \r\nQ 45.015625 15.765625 45.015625 23.390625 \r\nQ 45.015625 31 40.078125 35.4375 \r\nQ 35.15625 39.890625 26.703125 39.890625 \r\nQ 22.75 39.890625 18.8125 39.015625 \r\nQ 14.890625 38.140625 10.796875 36.28125 \r\nz\r\n\" id=\"DejaVuSans-53\"/>\r\n       </defs>\r\n       <use xlink:href=\"#DejaVuSans-53\"/>\r\n      </g>\r\n     </g>\r\n    </g>\r\n    <g id=\"xtick_3\">\r\n     <g id=\"line2d_3\">\r\n      <g>\r\n       <use style=\"stroke:#000000;stroke-width:0.8;\" x=\"108.465\" xlink:href=\"#m00fa515fb4\" y=\"239.758125\"/>\r\n      </g>\r\n     </g>\r\n     <g id=\"text_3\">\r\n      <!-- 10 -->\r\n      <g transform=\"translate(102.1025 254.356563)scale(0.1 -0.1)\">\r\n       <defs>\r\n        <path d=\"M 12.40625 8.296875 \r\nL 28.515625 8.296875 \r\nL 28.515625 63.921875 \r\nL 10.984375 60.40625 \r\nL 10.984375 69.390625 \r\nL 28.421875 72.90625 \r\nL 38.28125 72.90625 \r\nL 38.28125 8.296875 \r\nL 54.390625 8.296875 \r\nL 54.390625 0 \r\nL 12.40625 0 \r\nz\r\n\" id=\"DejaVuSans-49\"/>\r\n       </defs>\r\n       <use xlink:href=\"#DejaVuSans-49\"/>\r\n       <use x=\"63.623047\" xlink:href=\"#DejaVuSans-48\"/>\r\n      </g>\r\n     </g>\r\n    </g>\r\n    <g id=\"xtick_4\">\r\n     <g id=\"line2d_4\">\r\n      <g>\r\n       <use style=\"stroke:#000000;stroke-width:0.8;\" x=\"147.293571\" xlink:href=\"#m00fa515fb4\" y=\"239.758125\"/>\r\n      </g>\r\n     </g>\r\n     <g id=\"text_4\">\r\n      <!-- 15 -->\r\n      <g transform=\"translate(140.931071 254.356563)scale(0.1 -0.1)\">\r\n       <use xlink:href=\"#DejaVuSans-49\"/>\r\n       <use x=\"63.623047\" xlink:href=\"#DejaVuSans-53\"/>\r\n      </g>\r\n     </g>\r\n    </g>\r\n    <g id=\"xtick_5\">\r\n     <g id=\"line2d_5\">\r\n      <g>\r\n       <use style=\"stroke:#000000;stroke-width:0.8;\" x=\"186.122143\" xlink:href=\"#m00fa515fb4\" y=\"239.758125\"/>\r\n      </g>\r\n     </g>\r\n     <g id=\"text_5\">\r\n      <!-- 20 -->\r\n      <g transform=\"translate(179.759643 254.356563)scale(0.1 -0.1)\">\r\n       <defs>\r\n        <path d=\"M 19.1875 8.296875 \r\nL 53.609375 8.296875 \r\nL 53.609375 0 \r\nL 7.328125 0 \r\nL 7.328125 8.296875 \r\nQ 12.9375 14.109375 22.625 23.890625 \r\nQ 32.328125 33.6875 34.8125 36.53125 \r\nQ 39.546875 41.84375 41.421875 45.53125 \r\nQ 43.3125 49.21875 43.3125 52.78125 \r\nQ 43.3125 58.59375 39.234375 62.25 \r\nQ 35.15625 65.921875 28.609375 65.921875 \r\nQ 23.96875 65.921875 18.8125 64.3125 \r\nQ 13.671875 62.703125 7.8125 59.421875 \r\nL 7.8125 69.390625 \r\nQ 13.765625 71.78125 18.9375 73 \r\nQ 24.125 74.21875 28.421875 74.21875 \r\nQ 39.75 74.21875 46.484375 68.546875 \r\nQ 53.21875 62.890625 53.21875 53.421875 \r\nQ 53.21875 48.921875 51.53125 44.890625 \r\nQ 49.859375 40.875 45.40625 35.40625 \r\nQ 44.1875 33.984375 37.640625 27.21875 \r\nQ 31.109375 20.453125 19.1875 8.296875 \r\nz\r\n\" id=\"DejaVuSans-50\"/>\r\n       </defs>\r\n       <use xlink:href=\"#DejaVuSans-50\"/>\r\n       <use x=\"63.623047\" xlink:href=\"#DejaVuSans-48\"/>\r\n      </g>\r\n     </g>\r\n    </g>\r\n    <g id=\"xtick_6\">\r\n     <g id=\"line2d_6\">\r\n      <g>\r\n       <use style=\"stroke:#000000;stroke-width:0.8;\" x=\"224.950714\" xlink:href=\"#m00fa515fb4\" y=\"239.758125\"/>\r\n      </g>\r\n     </g>\r\n     <g id=\"text_6\">\r\n      <!-- 25 -->\r\n      <g transform=\"translate(218.588214 254.356563)scale(0.1 -0.1)\">\r\n       <use xlink:href=\"#DejaVuSans-50\"/>\r\n       <use x=\"63.623047\" xlink:href=\"#DejaVuSans-53\"/>\r\n      </g>\r\n     </g>\r\n    </g>\r\n   </g>\r\n   <g id=\"matplotlib.axis_2\">\r\n    <g id=\"ytick_1\">\r\n     <g id=\"line2d_7\">\r\n      <defs>\r\n       <path d=\"M 0 0 \r\nL -3.5 0 \r\n\" id=\"mc427cf8190\" style=\"stroke:#000000;stroke-width:0.8;\"/>\r\n      </defs>\r\n      <g>\r\n       <use style=\"stroke:#000000;stroke-width:0.8;\" x=\"26.925\" xlink:href=\"#mc427cf8190\" y=\"26.200982\"/>\r\n      </g>\r\n     </g>\r\n     <g id=\"text_7\">\r\n      <!-- 0 -->\r\n      <g transform=\"translate(13.5625 30.000201)scale(0.1 -0.1)\">\r\n       <use xlink:href=\"#DejaVuSans-48\"/>\r\n      </g>\r\n     </g>\r\n    </g>\r\n    <g id=\"ytick_2\">\r\n     <g id=\"line2d_8\">\r\n      <g>\r\n       <use style=\"stroke:#000000;stroke-width:0.8;\" x=\"26.925\" xlink:href=\"#mc427cf8190\" y=\"65.029554\"/>\r\n      </g>\r\n     </g>\r\n     <g id=\"text_8\">\r\n      <!-- 5 -->\r\n      <g transform=\"translate(13.5625 68.828772)scale(0.1 -0.1)\">\r\n       <use xlink:href=\"#DejaVuSans-53\"/>\r\n      </g>\r\n     </g>\r\n    </g>\r\n    <g id=\"ytick_3\">\r\n     <g id=\"line2d_9\">\r\n      <g>\r\n       <use style=\"stroke:#000000;stroke-width:0.8;\" x=\"26.925\" xlink:href=\"#mc427cf8190\" y=\"103.858125\"/>\r\n      </g>\r\n     </g>\r\n     <g id=\"text_9\">\r\n      <!-- 10 -->\r\n      <g transform=\"translate(7.2 107.657344)scale(0.1 -0.1)\">\r\n       <use xlink:href=\"#DejaVuSans-49\"/>\r\n       <use x=\"63.623047\" xlink:href=\"#DejaVuSans-48\"/>\r\n      </g>\r\n     </g>\r\n    </g>\r\n    <g id=\"ytick_4\">\r\n     <g id=\"line2d_10\">\r\n      <g>\r\n       <use style=\"stroke:#000000;stroke-width:0.8;\" x=\"26.925\" xlink:href=\"#mc427cf8190\" y=\"142.686696\"/>\r\n      </g>\r\n     </g>\r\n     <g id=\"text_10\">\r\n      <!-- 15 -->\r\n      <g transform=\"translate(7.2 146.485915)scale(0.1 -0.1)\">\r\n       <use xlink:href=\"#DejaVuSans-49\"/>\r\n       <use x=\"63.623047\" xlink:href=\"#DejaVuSans-53\"/>\r\n      </g>\r\n     </g>\r\n    </g>\r\n    <g id=\"ytick_5\">\r\n     <g id=\"line2d_11\">\r\n      <g>\r\n       <use style=\"stroke:#000000;stroke-width:0.8;\" x=\"26.925\" xlink:href=\"#mc427cf8190\" y=\"181.515268\"/>\r\n      </g>\r\n     </g>\r\n     <g id=\"text_11\">\r\n      <!-- 20 -->\r\n      <g transform=\"translate(7.2 185.314487)scale(0.1 -0.1)\">\r\n       <use xlink:href=\"#DejaVuSans-50\"/>\r\n       <use x=\"63.623047\" xlink:href=\"#DejaVuSans-48\"/>\r\n      </g>\r\n     </g>\r\n    </g>\r\n    <g id=\"ytick_6\">\r\n     <g id=\"line2d_12\">\r\n      <g>\r\n       <use style=\"stroke:#000000;stroke-width:0.8;\" x=\"26.925\" xlink:href=\"#mc427cf8190\" y=\"220.343839\"/>\r\n      </g>\r\n     </g>\r\n     <g id=\"text_12\">\r\n      <!-- 25 -->\r\n      <g transform=\"translate(7.2 224.143058)scale(0.1 -0.1)\">\r\n       <use xlink:href=\"#DejaVuSans-50\"/>\r\n       <use x=\"63.623047\" xlink:href=\"#DejaVuSans-53\"/>\r\n      </g>\r\n     </g>\r\n    </g>\r\n   </g>\r\n   <g id=\"patch_3\">\r\n    <path d=\"M 26.925 239.758125 \r\nL 26.925 22.318125 \r\n\" style=\"fill:none;stroke:#000000;stroke-linecap:square;stroke-linejoin:miter;stroke-width:0.8;\"/>\r\n   </g>\r\n   <g id=\"patch_4\">\r\n    <path d=\"M 244.365 239.758125 \r\nL 244.365 22.318125 \r\n\" style=\"fill:none;stroke:#000000;stroke-linecap:square;stroke-linejoin:miter;stroke-width:0.8;\"/>\r\n   </g>\r\n   <g id=\"patch_5\">\r\n    <path d=\"M 26.925 239.758125 \r\nL 244.365 239.758125 \r\n\" style=\"fill:none;stroke:#000000;stroke-linecap:square;stroke-linejoin:miter;stroke-width:0.8;\"/>\r\n   </g>\r\n   <g id=\"patch_6\">\r\n    <path d=\"M 26.925 22.318125 \r\nL 244.365 22.318125 \r\n\" style=\"fill:none;stroke:#000000;stroke-linecap:square;stroke-linejoin:miter;stroke-width:0.8;\"/>\r\n   </g>\r\n   <g id=\"text_13\">\r\n    <!-- Ankle boot -->\r\n    <g transform=\"translate(103.494375 16.318125)scale(0.12 -0.12)\">\r\n     <defs>\r\n      <path d=\"M 34.1875 63.1875 \r\nL 20.796875 26.90625 \r\nL 47.609375 26.90625 \r\nz\r\nM 28.609375 72.90625 \r\nL 39.796875 72.90625 \r\nL 67.578125 0 \r\nL 57.328125 0 \r\nL 50.6875 18.703125 \r\nL 17.828125 18.703125 \r\nL 11.1875 0 \r\nL 0.78125 0 \r\nz\r\n\" id=\"DejaVuSans-65\"/>\r\n      <path d=\"M 54.890625 33.015625 \r\nL 54.890625 0 \r\nL 45.90625 0 \r\nL 45.90625 32.71875 \r\nQ 45.90625 40.484375 42.875 44.328125 \r\nQ 39.84375 48.1875 33.796875 48.1875 \r\nQ 26.515625 48.1875 22.3125 43.546875 \r\nQ 18.109375 38.921875 18.109375 30.90625 \r\nL 18.109375 0 \r\nL 9.078125 0 \r\nL 9.078125 54.6875 \r\nL 18.109375 54.6875 \r\nL 18.109375 46.1875 \r\nQ 21.34375 51.125 25.703125 53.5625 \r\nQ 30.078125 56 35.796875 56 \r\nQ 45.21875 56 50.046875 50.171875 \r\nQ 54.890625 44.34375 54.890625 33.015625 \r\nz\r\n\" id=\"DejaVuSans-110\"/>\r\n      <path d=\"M 9.078125 75.984375 \r\nL 18.109375 75.984375 \r\nL 18.109375 31.109375 \r\nL 44.921875 54.6875 \r\nL 56.390625 54.6875 \r\nL 27.390625 29.109375 \r\nL 57.625 0 \r\nL 45.90625 0 \r\nL 18.109375 26.703125 \r\nL 18.109375 0 \r\nL 9.078125 0 \r\nz\r\n\" id=\"DejaVuSans-107\"/>\r\n      <path d=\"M 9.421875 75.984375 \r\nL 18.40625 75.984375 \r\nL 18.40625 0 \r\nL 9.421875 0 \r\nz\r\n\" id=\"DejaVuSans-108\"/>\r\n      <path d=\"M 56.203125 29.59375 \r\nL 56.203125 25.203125 \r\nL 14.890625 25.203125 \r\nQ 15.484375 15.921875 20.484375 11.0625 \r\nQ 25.484375 6.203125 34.421875 6.203125 \r\nQ 39.59375 6.203125 44.453125 7.46875 \r\nQ 49.3125 8.734375 54.109375 11.28125 \r\nL 54.109375 2.78125 \r\nQ 49.265625 0.734375 44.1875 -0.34375 \r\nQ 39.109375 -1.421875 33.890625 -1.421875 \r\nQ 20.796875 -1.421875 13.15625 6.1875 \r\nQ 5.515625 13.8125 5.515625 26.8125 \r\nQ 5.515625 40.234375 12.765625 48.109375 \r\nQ 20.015625 56 32.328125 56 \r\nQ 43.359375 56 49.78125 48.890625 \r\nQ 56.203125 41.796875 56.203125 29.59375 \r\nz\r\nM 47.21875 32.234375 \r\nQ 47.125 39.59375 43.09375 43.984375 \r\nQ 39.0625 48.390625 32.421875 48.390625 \r\nQ 24.90625 48.390625 20.390625 44.140625 \r\nQ 15.875 39.890625 15.1875 32.171875 \r\nz\r\n\" id=\"DejaVuSans-101\"/>\r\n      <path id=\"DejaVuSans-32\"/>\r\n      <path d=\"M 48.6875 27.296875 \r\nQ 48.6875 37.203125 44.609375 42.84375 \r\nQ 40.53125 48.484375 33.40625 48.484375 \r\nQ 26.265625 48.484375 22.1875 42.84375 \r\nQ 18.109375 37.203125 18.109375 27.296875 \r\nQ 18.109375 17.390625 22.1875 11.75 \r\nQ 26.265625 6.109375 33.40625 6.109375 \r\nQ 40.53125 6.109375 44.609375 11.75 \r\nQ 48.6875 17.390625 48.6875 27.296875 \r\nz\r\nM 18.109375 46.390625 \r\nQ 20.953125 51.265625 25.265625 53.625 \r\nQ 29.59375 56 35.59375 56 \r\nQ 45.5625 56 51.78125 48.09375 \r\nQ 58.015625 40.1875 58.015625 27.296875 \r\nQ 58.015625 14.40625 51.78125 6.484375 \r\nQ 45.5625 -1.421875 35.59375 -1.421875 \r\nQ 29.59375 -1.421875 25.265625 0.953125 \r\nQ 20.953125 3.328125 18.109375 8.203125 \r\nL 18.109375 0 \r\nL 9.078125 0 \r\nL 9.078125 75.984375 \r\nL 18.109375 75.984375 \r\nz\r\n\" id=\"DejaVuSans-98\"/>\r\n      <path d=\"M 30.609375 48.390625 \r\nQ 23.390625 48.390625 19.1875 42.75 \r\nQ 14.984375 37.109375 14.984375 27.296875 \r\nQ 14.984375 17.484375 19.15625 11.84375 \r\nQ 23.34375 6.203125 30.609375 6.203125 \r\nQ 37.796875 6.203125 41.984375 11.859375 \r\nQ 46.1875 17.53125 46.1875 27.296875 \r\nQ 46.1875 37.015625 41.984375 42.703125 \r\nQ 37.796875 48.390625 30.609375 48.390625 \r\nz\r\nM 30.609375 56 \r\nQ 42.328125 56 49.015625 48.375 \r\nQ 55.71875 40.765625 55.71875 27.296875 \r\nQ 55.71875 13.875 49.015625 6.21875 \r\nQ 42.328125 -1.421875 30.609375 -1.421875 \r\nQ 18.84375 -1.421875 12.171875 6.21875 \r\nQ 5.515625 13.875 5.515625 27.296875 \r\nQ 5.515625 40.765625 12.171875 48.375 \r\nQ 18.84375 56 30.609375 56 \r\nz\r\n\" id=\"DejaVuSans-111\"/>\r\n      <path d=\"M 18.3125 70.21875 \r\nL 18.3125 54.6875 \r\nL 36.8125 54.6875 \r\nL 36.8125 47.703125 \r\nL 18.3125 47.703125 \r\nL 18.3125 18.015625 \r\nQ 18.3125 11.328125 20.140625 9.421875 \r\nQ 21.96875 7.515625 27.59375 7.515625 \r\nL 36.8125 7.515625 \r\nL 36.8125 0 \r\nL 27.59375 0 \r\nQ 17.1875 0 13.234375 3.875 \r\nQ 9.28125 7.765625 9.28125 18.015625 \r\nL 9.28125 47.703125 \r\nL 2.6875 47.703125 \r\nL 2.6875 54.6875 \r\nL 9.28125 54.6875 \r\nL 9.28125 70.21875 \r\nz\r\n\" id=\"DejaVuSans-116\"/>\r\n     </defs>\r\n     <use xlink:href=\"#DejaVuSans-65\"/>\r\n     <use x=\"68.408203\" xlink:href=\"#DejaVuSans-110\"/>\r\n     <use x=\"131.787109\" xlink:href=\"#DejaVuSans-107\"/>\r\n     <use x=\"189.697266\" xlink:href=\"#DejaVuSans-108\"/>\r\n     <use x=\"217.480469\" xlink:href=\"#DejaVuSans-101\"/>\r\n     <use x=\"279.003906\" xlink:href=\"#DejaVuSans-32\"/>\r\n     <use x=\"310.791016\" xlink:href=\"#DejaVuSans-98\"/>\r\n     <use x=\"374.267578\" xlink:href=\"#DejaVuSans-111\"/>\r\n     <use x=\"435.449219\" xlink:href=\"#DejaVuSans-111\"/>\r\n     <use x=\"496.630859\" xlink:href=\"#DejaVuSans-116\"/>\r\n    </g>\r\n   </g>\r\n  </g>\r\n </g>\r\n <defs>\r\n  <clipPath id=\"pd75964c291\">\r\n   <rect height=\"217.44\" width=\"217.44\" x=\"26.925\" y=\"22.318125\"/>\r\n  </clipPath>\r\n </defs>\r\n</svg>\r\n",
      "image/png": "[encoded data removed]"
     },
     "metadata": {
      "needs_background": "light"
     }
    }
   ],
   "source": [
    "import matplotlib\n",
    "import matplotlib.pyplot as plt\n",
    "\n",
    "x, y = test_data[0]\n",
    "\n",
    "label = training_data.classes[y]\n",
    "\n",
    "plt.title(label)\n",
    "plt.imshow(x[0], cmap = matplotlib.cm.binary)"
   ]
  },
  {
   "cell_type": "code",
   "execution_count": 13,
   "metadata": {},
   "outputs": [
    {
     "output_type": "stream",
     "name": "stdout",
     "text": [
      "torch.Size([64, 1, 28, 28])\ntorch.Size([64])\n"
     ]
    }
   ],
   "source": [
    "from torch.utils.data import DataLoader\n",
    "\n",
    "batch_size = 64\n",
    "\n",
    "# 将数据打包为dataloader\n",
    "train_dataloader = DataLoader(training_data, batch_size=batch_size)\n",
    "test_dataloader = DataLoader(test_data, batch_size=batch_size)\n",
    "\n",
    "for X, y in test_dataloader:\n",
    "    print(X.size())\n",
    "    print(y.size())\n",
    "    break"
   ]
  },
  {
   "cell_type": "code",
   "execution_count": 15,
   "metadata": {},
   "outputs": [
    {
     "output_type": "execute_result",
     "data": {
      "text/plain": [
       "NeuralNetwork(\n",
       "  (linear_relu_stack): Sequential(\n",
       "    (0): Linear(in_features=784, out_features=512, bias=True)\n",
       "    (1): ReLU()\n",
       "    (2): Linear(in_features=512, out_features=512, bias=True)\n",
       "    (3): ReLU()\n",
       "    (4): Linear(in_features=512, out_features=10, bias=True)\n",
       "  )\n",
       ")"
      ]
     },
     "metadata": {},
     "execution_count": 15
    }
   ],
   "source": [
    "# 建立模型\n",
    "\n",
    "class NeuralNetwork(nn.Module):\n",
    "    def __init__(self):\n",
    "        super(NeuralNetwork, self).__init__()\n",
    "        self.linear_relu_stack = nn.Sequential(\n",
    "            nn.Linear(28*28, 512),\n",
    "            nn.ReLU(),\n",
    "            nn.Linear(512, 512),\n",
    "            nn.ReLU(),\n",
    "            nn.Linear(512, 10),\n",
    "        )\n",
    "\n",
    "    def forward(self, x):\n",
    "        # [64, 1, 28, 28] => [64, 28*28]\n",
    "        batch_size = x.size(0)\n",
    "        x = x.view(batch_size, -1)\n",
    "\n",
    "        # [64, 28*28] => [64, 10]\n",
    "        logits = self.linear_relu_stack(x)\n",
    "        return logits\n",
    "\n",
    "model = NeuralNetwork()\n",
    "# model.cuda()\n",
    "if torch.cuda.is_available():\n",
    "    model.cuda()\n",
    "\n",
    "model"
   ]
  },
  {
   "cell_type": "code",
   "execution_count": 16,
   "metadata": {},
   "outputs": [],
   "source": [
    "loss_func = nn.CrossEntropyLoss()\n",
    "optimizer = torch.optim.SGD(model.parameters(), lr=1e-3)"
   ]
  },
  {
   "cell_type": "code",
   "execution_count": 17,
   "metadata": {},
   "outputs": [],
   "source": [
    "def train(dataloader, model, loss_func, optimizer):\n",
    "    # 开启训练模式\n",
    "    model.train()\n",
    "\n",
    "    size = len(dataloader.dataset)\n",
    "    for batch_idx, (X, y) in enumerate(dataloader):\n",
    "        if torch.cuda.is_available():\n",
    "            X = X.cuda()\n",
    "            y = y.cuda()\n",
    "\n",
    "        pred = model(X)\n",
    "        loss = loss_func(pred, y)\n",
    "\n",
    "        optimizer.zero_grad()\n",
    "        loss.backward()\n",
    "        optimizer.step()\n",
    "\n",
    "        if (batch_idx+1) % 100 == 0:\n",
    "            current = (batch_idx+1) * X.size(0)\n",
    "            print(f'loss: {loss.item():.7f}  [{current:5d}/{size:5d}]')"
   ]
  },
  {
   "cell_type": "code",
   "execution_count": 19,
   "metadata": {},
   "outputs": [],
   "source": [
    "def test(dataloader, model, loss_func):\n",
    "    # 关闭训练模式\n",
    "    model.eval()\n",
    "    test_loss = 0\n",
    "    correct_num = 0\n",
    "\n",
    "    with torch.no_grad():\n",
    "        for X, y in dataloader:\n",
    "            if torch.cuda.is_available():   \n",
    "                X = X.cuda()\n",
    "                y = y.cuda()\n",
    "\n",
    "            pred = model(X)\n",
    "\n",
    "            test_loss = test_loss + loss_func(pred, y).item()\n",
    "            correct_num = correct_num + (pred.argmax(1) == y).float().sum().item()\n",
    "        test_loss = test_loss / len(dataloader)\n",
    "        accuracy = correct_num / len(dataloader.dataset)\n",
    "\n",
    "        print(f'Accuracy: {accuracy:.4f}, Test Loss: {test_loss:.8f}\\n')"
   ]
  },
  {
   "cell_type": "code",
   "execution_count": 20,
   "metadata": {},
   "outputs": [
    {
     "output_type": "stream",
     "name": "stdout",
     "text": [
      "Epoch 1\n",
      "-------------------------\n",
      "loss: 2.1430862  [ 6400/60000]\n",
      "loss: 2.1153181  [12800/60000]\n",
      "loss: 2.0888729  [19200/60000]\n",
      "loss: 2.0780406  [25600/60000]\n",
      "loss: 2.0591388  [32000/60000]\n",
      "loss: 2.0214708  [38400/60000]\n",
      "loss: 2.0036471  [44800/60000]\n",
      "loss: 1.9990337  [51200/60000]\n",
      "loss: 1.8947505  [57600/60000]\n",
      "Accuracy: 0.5164, Test Loss: 1.89750632\n",
      "\n",
      "Epoch 2\n",
      "-------------------------\n",
      "loss: 1.8563385  [ 6400/60000]\n",
      "loss: 1.8191421  [12800/60000]\n",
      "loss: 1.7811962  [19200/60000]\n",
      "loss: 1.7853355  [25600/60000]\n",
      "loss: 1.7202821  [32000/60000]\n",
      "loss: 1.6912156  [38400/60000]\n",
      "loss: 1.6551976  [44800/60000]\n",
      "loss: 1.6833435  [51200/60000]\n",
      "loss: 1.5431420  [57600/60000]\n",
      "Accuracy: 0.6142, Test Loss: 1.53716122\n",
      "\n",
      "Epoch 3\n",
      "-------------------------\n",
      "loss: 1.4831998  [ 6400/60000]\n",
      "loss: 1.4739131  [12800/60000]\n",
      "loss: 1.4208043  [19200/60000]\n",
      "loss: 1.5086929  [25600/60000]\n",
      "loss: 1.3713826  [32000/60000]\n",
      "loss: 1.3803328  [38400/60000]\n",
      "loss: 1.3655721  [44800/60000]\n",
      "loss: 1.4315727  [51200/60000]\n",
      "loss: 1.2755133  [57600/60000]\n",
      "Accuracy: 0.6393, Test Loss: 1.26980148\n",
      "\n",
      "Epoch 4\n",
      "-------------------------\n",
      "loss: 1.2145019  [ 6400/60000]\n",
      "loss: 1.2486081  [12800/60000]\n",
      "loss: 1.1580719  [19200/60000]\n",
      "loss: 1.3395513  [25600/60000]\n",
      "loss: 1.1276228  [32000/60000]\n",
      "loss: 1.1804121  [38400/60000]\n",
      "loss: 1.1968917  [44800/60000]\n",
      "loss: 1.2666638  [51200/60000]\n",
      "loss: 1.1049755  [57600/60000]\n",
      "Accuracy: 0.6490, Test Loss: 1.10218028\n",
      "\n",
      "Epoch 5\n",
      "-------------------------\n",
      "loss: 1.0444387  [ 6400/60000]\n",
      "loss: 1.1202133  [12800/60000]\n",
      "loss: 0.9882849  [19200/60000]\n",
      "loss: 1.2348348  [25600/60000]\n",
      "loss: 0.9709495  [32000/60000]\n",
      "loss: 1.0479465  [38400/60000]\n",
      "loss: 1.1009699  [44800/60000]\n",
      "loss: 1.1554650  [51200/60000]\n",
      "loss: 0.9913116  [57600/60000]\n",
      "Accuracy: 0.6603, Test Loss: 0.99335442\n",
      "\n",
      "Done -)\n"
     ]
    }
   ],
   "source": [
    "epochs = 5\n",
    "for t in range(epochs):\n",
    "    print(f'Epoch {t+1}\\n-------------------------')\n",
    "    train(train_dataloader, model, loss_func, optimizer)\n",
    "    test(test_dataloader, model, loss_func)\n",
    "print('Done -)')\n"
   ]
  },
  {
   "cell_type": "code",
   "execution_count": 21,
   "metadata": {},
   "outputs": [],
   "source": [
    "torch.save(model.state_dict(), \"data/save_model/model.pth\")"
   ]
  },
  {
   "cell_type": "code",
   "execution_count": 22,
   "metadata": {},
   "outputs": [
    {
     "output_type": "execute_result",
     "data": {
      "text/plain": [
       "<All keys matched successfully>"
      ]
     },
     "metadata": {},
     "execution_count": 22
    }
   ],
   "source": [
    "model = NeuralNetwork()\n",
    "model.load_state_dict(torch.load('data/save_model/model.pth'))"
   ]
  },
  {
   "cell_type": "code",
   "execution_count": 23,
   "metadata": {},
   "outputs": [
    {
     "output_type": "execute_result",
     "data": {
      "text/plain": [
       "<matplotlib.image.AxesImage at 0x1b58e021520>"
      ]
     },
     "metadata": {},
     "execution_count": 23
    },
    {
     "output_type": "display_data",
     "data": {
      "text/plain": "<Figure size 432x288 with 1 Axes>",
      "image/svg+xml": "<?xml version=\"1.0\" encoding=\"utf-8\" standalone=\"no\"?>\r\n<!DOCTYPE svg PUBLIC \"-//W3C//DTD SVG 1.1//EN\"\r\n  \"http://www.w3.org/Graphics/SVG/1.1/DTD/svg11.dtd\">\r\n<!-- Created with matplotlib (https://matplotlib.org/) -->\r\n<svg height=\"263.63625pt\" version=\"1.1\" viewBox=\"0 0 257.873437 263.63625\" width=\"257.873437pt\" xmlns=\"http://www.w3.org/2000/svg\" xmlns:xlink=\"http://www.w3.org/1999/xlink\">\r\n <metadata>\r\n  <rdf:RDF xmlns:cc=\"http://creativecommons.org/ns#\" xmlns:dc=\"http://purl.org/dc/elements/1.1/\" xmlns:rdf=\"http://www.w3.org/1999/02/22-rdf-syntax-ns#\">\r\n   <cc:Work>\r\n    <dc:type rdf:resource=\"http://purl.org/dc/dcmitype/StillImage\"/>\r\n    <dc:date>2021-03-30T10:47:27.197588</dc:date>\r\n    <dc:format>image/svg+xml</dc:format>\r\n    <dc:creator>\r\n     <cc:Agent>\r\n      <dc:title>Matplotlib v3.3.2, https://matplotlib.org/</dc:title>\r\n     </cc:Agent>\r\n    </dc:creator>\r\n   </cc:Work>\r\n  </rdf:RDF>\r\n </metadata>\r\n <defs>\r\n  <style type=\"text/css\">*{stroke-linecap:butt;stroke-linejoin:round;}</style>\r\n </defs>\r\n <g id=\"figure_1\">\r\n  <g id=\"patch_1\">\r\n   <path d=\"M 0 263.63625 \r\nL 257.873437 263.63625 \r\nL 257.873437 0 \r\nL 0 0 \r\nz\r\n\" style=\"fill:none;\"/>\r\n  </g>\r\n  <g id=\"axes_1\">\r\n   <g id=\"patch_2\">\r\n    <path d=\"M 26.925 239.758125 \r\nL 244.365 239.758125 \r\nL 244.365 22.318125 \r\nL 26.925 22.318125 \r\nz\r\n\" style=\"fill:#ffffff;\"/>\r\n   </g>\r\n   <g clip-path=\"url(#pbdd88528d5)\">\r\n    <image height=\"218\" id=\"image0100e53dc7\" transform=\"scale(1 -1)translate(0 -218)\" width=\"218\" x=\"26.925\" xlink:href=\"data:image/png;base64,\r\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\" y=\"-21.758125\"/>\r\n   </g>\r\n   <g id=\"matplotlib.axis_1\">\r\n    <g id=\"xtick_1\">\r\n     <g id=\"line2d_1\">\r\n      <defs>\r\n       <path d=\"M 0 0 \r\nL 0 3.5 \r\n\" id=\"m228c51027b\" style=\"stroke:#000000;stroke-width:0.8;\"/>\r\n      </defs>\r\n      <g>\r\n       <use style=\"stroke:#000000;stroke-width:0.8;\" x=\"30.807857\" xlink:href=\"#m228c51027b\" y=\"239.758125\"/>\r\n      </g>\r\n     </g>\r\n     <g id=\"text_1\">\r\n      <!-- 0 -->\r\n      <g transform=\"translate(27.626607 254.356563)scale(0.1 -0.1)\">\r\n       <defs>\r\n        <path d=\"M 31.78125 66.40625 \r\nQ 24.171875 66.40625 20.328125 58.90625 \r\nQ 16.5 51.421875 16.5 36.375 \r\nQ 16.5 21.390625 20.328125 13.890625 \r\nQ 24.171875 6.390625 31.78125 6.390625 \r\nQ 39.453125 6.390625 43.28125 13.890625 \r\nQ 47.125 21.390625 47.125 36.375 \r\nQ 47.125 51.421875 43.28125 58.90625 \r\nQ 39.453125 66.40625 31.78125 66.40625 \r\nz\r\nM 31.78125 74.21875 \r\nQ 44.046875 74.21875 50.515625 64.515625 \r\nQ 56.984375 54.828125 56.984375 36.375 \r\nQ 56.984375 17.96875 50.515625 8.265625 \r\nQ 44.046875 -1.421875 31.78125 -1.421875 \r\nQ 19.53125 -1.421875 13.0625 8.265625 \r\nQ 6.59375 17.96875 6.59375 36.375 \r\nQ 6.59375 54.828125 13.0625 64.515625 \r\nQ 19.53125 74.21875 31.78125 74.21875 \r\nz\r\n\" id=\"DejaVuSans-48\"/>\r\n       </defs>\r\n       <use xlink:href=\"#DejaVuSans-48\"/>\r\n      </g>\r\n     </g>\r\n    </g>\r\n    <g id=\"xtick_2\">\r\n     <g id=\"line2d_2\">\r\n      <g>\r\n       <use style=\"stroke:#000000;stroke-width:0.8;\" x=\"69.636429\" xlink:href=\"#m228c51027b\" y=\"239.758125\"/>\r\n      </g>\r\n     </g>\r\n     <g id=\"text_2\">\r\n      <!-- 5 -->\r\n      <g transform=\"translate(66.455179 254.356563)scale(0.1 -0.1)\">\r\n       <defs>\r\n        <path d=\"M 10.796875 72.90625 \r\nL 49.515625 72.90625 \r\nL 49.515625 64.59375 \r\nL 19.828125 64.59375 \r\nL 19.828125 46.734375 \r\nQ 21.96875 47.46875 24.109375 47.828125 \r\nQ 26.265625 48.1875 28.421875 48.1875 \r\nQ 40.625 48.1875 47.75 41.5 \r\nQ 54.890625 34.8125 54.890625 23.390625 \r\nQ 54.890625 11.625 47.5625 5.09375 \r\nQ 40.234375 -1.421875 26.90625 -1.421875 \r\nQ 22.3125 -1.421875 17.546875 -0.640625 \r\nQ 12.796875 0.140625 7.71875 1.703125 \r\nL 7.71875 11.625 \r\nQ 12.109375 9.234375 16.796875 8.0625 \r\nQ 21.484375 6.890625 26.703125 6.890625 \r\nQ 35.15625 6.890625 40.078125 11.328125 \r\nQ 45.015625 15.765625 45.015625 23.390625 \r\nQ 45.015625 31 40.078125 35.4375 \r\nQ 35.15625 39.890625 26.703125 39.890625 \r\nQ 22.75 39.890625 18.8125 39.015625 \r\nQ 14.890625 38.140625 10.796875 36.28125 \r\nz\r\n\" id=\"DejaVuSans-53\"/>\r\n       </defs>\r\n       <use xlink:href=\"#DejaVuSans-53\"/>\r\n      </g>\r\n     </g>\r\n    </g>\r\n    <g id=\"xtick_3\">\r\n     <g id=\"line2d_3\">\r\n      <g>\r\n       <use style=\"stroke:#000000;stroke-width:0.8;\" x=\"108.465\" xlink:href=\"#m228c51027b\" y=\"239.758125\"/>\r\n      </g>\r\n     </g>\r\n     <g id=\"text_3\">\r\n      <!-- 10 -->\r\n      <g transform=\"translate(102.1025 254.356563)scale(0.1 -0.1)\">\r\n       <defs>\r\n        <path d=\"M 12.40625 8.296875 \r\nL 28.515625 8.296875 \r\nL 28.515625 63.921875 \r\nL 10.984375 60.40625 \r\nL 10.984375 69.390625 \r\nL 28.421875 72.90625 \r\nL 38.28125 72.90625 \r\nL 38.28125 8.296875 \r\nL 54.390625 8.296875 \r\nL 54.390625 0 \r\nL 12.40625 0 \r\nz\r\n\" id=\"DejaVuSans-49\"/>\r\n       </defs>\r\n       <use xlink:href=\"#DejaVuSans-49\"/>\r\n       <use x=\"63.623047\" xlink:href=\"#DejaVuSans-48\"/>\r\n      </g>\r\n     </g>\r\n    </g>\r\n    <g id=\"xtick_4\">\r\n     <g id=\"line2d_4\">\r\n      <g>\r\n       <use style=\"stroke:#000000;stroke-width:0.8;\" x=\"147.293571\" xlink:href=\"#m228c51027b\" y=\"239.758125\"/>\r\n      </g>\r\n     </g>\r\n     <g id=\"text_4\">\r\n      <!-- 15 -->\r\n      <g transform=\"translate(140.931071 254.356563)scale(0.1 -0.1)\">\r\n       <use xlink:href=\"#DejaVuSans-49\"/>\r\n       <use x=\"63.623047\" xlink:href=\"#DejaVuSans-53\"/>\r\n      </g>\r\n     </g>\r\n    </g>\r\n    <g id=\"xtick_5\">\r\n     <g id=\"line2d_5\">\r\n      <g>\r\n       <use style=\"stroke:#000000;stroke-width:0.8;\" x=\"186.122143\" xlink:href=\"#m228c51027b\" y=\"239.758125\"/>\r\n      </g>\r\n     </g>\r\n     <g id=\"text_5\">\r\n      <!-- 20 -->\r\n      <g transform=\"translate(179.759643 254.356563)scale(0.1 -0.1)\">\r\n       <defs>\r\n        <path d=\"M 19.1875 8.296875 \r\nL 53.609375 8.296875 \r\nL 53.609375 0 \r\nL 7.328125 0 \r\nL 7.328125 8.296875 \r\nQ 12.9375 14.109375 22.625 23.890625 \r\nQ 32.328125 33.6875 34.8125 36.53125 \r\nQ 39.546875 41.84375 41.421875 45.53125 \r\nQ 43.3125 49.21875 43.3125 52.78125 \r\nQ 43.3125 58.59375 39.234375 62.25 \r\nQ 35.15625 65.921875 28.609375 65.921875 \r\nQ 23.96875 65.921875 18.8125 64.3125 \r\nQ 13.671875 62.703125 7.8125 59.421875 \r\nL 7.8125 69.390625 \r\nQ 13.765625 71.78125 18.9375 73 \r\nQ 24.125 74.21875 28.421875 74.21875 \r\nQ 39.75 74.21875 46.484375 68.546875 \r\nQ 53.21875 62.890625 53.21875 53.421875 \r\nQ 53.21875 48.921875 51.53125 44.890625 \r\nQ 49.859375 40.875 45.40625 35.40625 \r\nQ 44.1875 33.984375 37.640625 27.21875 \r\nQ 31.109375 20.453125 19.1875 8.296875 \r\nz\r\n\" id=\"DejaVuSans-50\"/>\r\n       </defs>\r\n       <use xlink:href=\"#DejaVuSans-50\"/>\r\n       <use x=\"63.623047\" xlink:href=\"#DejaVuSans-48\"/>\r\n      </g>\r\n     </g>\r\n    </g>\r\n    <g id=\"xtick_6\">\r\n     <g id=\"line2d_6\">\r\n      <g>\r\n       <use style=\"stroke:#000000;stroke-width:0.8;\" x=\"224.950714\" xlink:href=\"#m228c51027b\" y=\"239.758125\"/>\r\n      </g>\r\n     </g>\r\n     <g id=\"text_6\">\r\n      <!-- 25 -->\r\n      <g transform=\"translate(218.588214 254.356563)scale(0.1 -0.1)\">\r\n       <use xlink:href=\"#DejaVuSans-50\"/>\r\n       <use x=\"63.623047\" xlink:href=\"#DejaVuSans-53\"/>\r\n      </g>\r\n     </g>\r\n    </g>\r\n   </g>\r\n   <g id=\"matplotlib.axis_2\">\r\n    <g id=\"ytick_1\">\r\n     <g id=\"line2d_7\">\r\n      <defs>\r\n       <path d=\"M 0 0 \r\nL -3.5 0 \r\n\" id=\"m535d39b046\" style=\"stroke:#000000;stroke-width:0.8;\"/>\r\n      </defs>\r\n      <g>\r\n       <use style=\"stroke:#000000;stroke-width:0.8;\" x=\"26.925\" xlink:href=\"#m535d39b046\" y=\"26.200982\"/>\r\n      </g>\r\n     </g>\r\n     <g id=\"text_7\">\r\n      <!-- 0 -->\r\n      <g transform=\"translate(13.5625 30.000201)scale(0.1 -0.1)\">\r\n       <use xlink:href=\"#DejaVuSans-48\"/>\r\n      </g>\r\n     </g>\r\n    </g>\r\n    <g id=\"ytick_2\">\r\n     <g id=\"line2d_8\">\r\n      <g>\r\n       <use style=\"stroke:#000000;stroke-width:0.8;\" x=\"26.925\" xlink:href=\"#m535d39b046\" y=\"65.029554\"/>\r\n      </g>\r\n     </g>\r\n     <g id=\"text_8\">\r\n      <!-- 5 -->\r\n      <g transform=\"translate(13.5625 68.828772)scale(0.1 -0.1)\">\r\n       <use xlink:href=\"#DejaVuSans-53\"/>\r\n      </g>\r\n     </g>\r\n    </g>\r\n    <g id=\"ytick_3\">\r\n     <g id=\"line2d_9\">\r\n      <g>\r\n       <use style=\"stroke:#000000;stroke-width:0.8;\" x=\"26.925\" xlink:href=\"#m535d39b046\" y=\"103.858125\"/>\r\n      </g>\r\n     </g>\r\n     <g id=\"text_9\">\r\n      <!-- 10 -->\r\n      <g transform=\"translate(7.2 107.657344)scale(0.1 -0.1)\">\r\n       <use xlink:href=\"#DejaVuSans-49\"/>\r\n       <use x=\"63.623047\" xlink:href=\"#DejaVuSans-48\"/>\r\n      </g>\r\n     </g>\r\n    </g>\r\n    <g id=\"ytick_4\">\r\n     <g id=\"line2d_10\">\r\n      <g>\r\n       <use style=\"stroke:#000000;stroke-width:0.8;\" x=\"26.925\" xlink:href=\"#m535d39b046\" y=\"142.686696\"/>\r\n      </g>\r\n     </g>\r\n     <g id=\"text_10\">\r\n      <!-- 15 -->\r\n      <g transform=\"translate(7.2 146.485915)scale(0.1 -0.1)\">\r\n       <use xlink:href=\"#DejaVuSans-49\"/>\r\n       <use x=\"63.623047\" xlink:href=\"#DejaVuSans-53\"/>\r\n      </g>\r\n     </g>\r\n    </g>\r\n    <g id=\"ytick_5\">\r\n     <g id=\"line2d_11\">\r\n      <g>\r\n       <use style=\"stroke:#000000;stroke-width:0.8;\" x=\"26.925\" xlink:href=\"#m535d39b046\" y=\"181.515268\"/>\r\n      </g>\r\n     </g>\r\n     <g id=\"text_11\">\r\n      <!-- 20 -->\r\n      <g transform=\"translate(7.2 185.314487)scale(0.1 -0.1)\">\r\n       <use xlink:href=\"#DejaVuSans-50\"/>\r\n       <use x=\"63.623047\" xlink:href=\"#DejaVuSans-48\"/>\r\n      </g>\r\n     </g>\r\n    </g>\r\n    <g id=\"ytick_6\">\r\n     <g id=\"line2d_12\">\r\n      <g>\r\n       <use style=\"stroke:#000000;stroke-width:0.8;\" x=\"26.925\" xlink:href=\"#m535d39b046\" y=\"220.343839\"/>\r\n      </g>\r\n     </g>\r\n     <g id=\"text_12\">\r\n      <!-- 25 -->\r\n      <g transform=\"translate(7.2 224.143058)scale(0.1 -0.1)\">\r\n       <use xlink:href=\"#DejaVuSans-50\"/>\r\n       <use x=\"63.623047\" xlink:href=\"#DejaVuSans-53\"/>\r\n      </g>\r\n     </g>\r\n    </g>\r\n   </g>\r\n   <g id=\"patch_3\">\r\n    <path d=\"M 26.925 239.758125 \r\nL 26.925 22.318125 \r\n\" style=\"fill:none;stroke:#000000;stroke-linecap:square;stroke-linejoin:miter;stroke-width:0.8;\"/>\r\n   </g>\r\n   <g id=\"patch_4\">\r\n    <path d=\"M 244.365 239.758125 \r\nL 244.365 22.318125 \r\n\" style=\"fill:none;stroke:#000000;stroke-linecap:square;stroke-linejoin:miter;stroke-width:0.8;\"/>\r\n   </g>\r\n   <g id=\"patch_5\">\r\n    <path d=\"M 26.925 239.758125 \r\nL 244.365 239.758125 \r\n\" style=\"fill:none;stroke:#000000;stroke-linecap:square;stroke-linejoin:miter;stroke-width:0.8;\"/>\r\n   </g>\r\n   <g id=\"patch_6\">\r\n    <path d=\"M 26.925 22.318125 \r\nL 244.365 22.318125 \r\n\" style=\"fill:none;stroke:#000000;stroke-linecap:square;stroke-linejoin:miter;stroke-width:0.8;\"/>\r\n   </g>\r\n   <g id=\"text_13\">\r\n    <!-- y_pred: Ankle boot, y_true: Ankle boot -->\r\n    <g transform=\"translate(20.616562 16.318125)scale(0.12 -0.12)\">\r\n     <defs>\r\n      <path d=\"M 32.171875 -5.078125 \r\nQ 28.375 -14.84375 24.75 -17.8125 \r\nQ 21.140625 -20.796875 15.09375 -20.796875 \r\nL 7.90625 -20.796875 \r\nL 7.90625 -13.28125 \r\nL 13.1875 -13.28125 \r\nQ 16.890625 -13.28125 18.9375 -11.515625 \r\nQ 21 -9.765625 23.484375 -3.21875 \r\nL 25.09375 0.875 \r\nL 2.984375 54.6875 \r\nL 12.5 54.6875 \r\nL 29.59375 11.921875 \r\nL 46.6875 54.6875 \r\nL 56.203125 54.6875 \r\nz\r\n\" id=\"DejaVuSans-121\"/>\r\n      <path d=\"M 50.984375 -16.609375 \r\nL 50.984375 -23.578125 \r\nL -0.984375 -23.578125 \r\nL -0.984375 -16.609375 \r\nz\r\n\" id=\"DejaVuSans-95\"/>\r\n      <path d=\"M 18.109375 8.203125 \r\nL 18.109375 -20.796875 \r\nL 9.078125 -20.796875 \r\nL 9.078125 54.6875 \r\nL 18.109375 54.6875 \r\nL 18.109375 46.390625 \r\nQ 20.953125 51.265625 25.265625 53.625 \r\nQ 29.59375 56 35.59375 56 \r\nQ 45.5625 56 51.78125 48.09375 \r\nQ 58.015625 40.1875 58.015625 27.296875 \r\nQ 58.015625 14.40625 51.78125 6.484375 \r\nQ 45.5625 -1.421875 35.59375 -1.421875 \r\nQ 29.59375 -1.421875 25.265625 0.953125 \r\nQ 20.953125 3.328125 18.109375 8.203125 \r\nz\r\nM 48.6875 27.296875 \r\nQ 48.6875 37.203125 44.609375 42.84375 \r\nQ 40.53125 48.484375 33.40625 48.484375 \r\nQ 26.265625 48.484375 22.1875 42.84375 \r\nQ 18.109375 37.203125 18.109375 27.296875 \r\nQ 18.109375 17.390625 22.1875 11.75 \r\nQ 26.265625 6.109375 33.40625 6.109375 \r\nQ 40.53125 6.109375 44.609375 11.75 \r\nQ 48.6875 17.390625 48.6875 27.296875 \r\nz\r\n\" id=\"DejaVuSans-112\"/>\r\n      <path d=\"M 41.109375 46.296875 \r\nQ 39.59375 47.171875 37.8125 47.578125 \r\nQ 36.03125 48 33.890625 48 \r\nQ 26.265625 48 22.1875 43.046875 \r\nQ 18.109375 38.09375 18.109375 28.8125 \r\nL 18.109375 0 \r\nL 9.078125 0 \r\nL 9.078125 54.6875 \r\nL 18.109375 54.6875 \r\nL 18.109375 46.1875 \r\nQ 20.953125 51.171875 25.484375 53.578125 \r\nQ 30.03125 56 36.53125 56 \r\nQ 37.453125 56 38.578125 55.875 \r\nQ 39.703125 55.765625 41.0625 55.515625 \r\nz\r\n\" id=\"DejaVuSans-114\"/>\r\n      <path d=\"M 56.203125 29.59375 \r\nL 56.203125 25.203125 \r\nL 14.890625 25.203125 \r\nQ 15.484375 15.921875 20.484375 11.0625 \r\nQ 25.484375 6.203125 34.421875 6.203125 \r\nQ 39.59375 6.203125 44.453125 7.46875 \r\nQ 49.3125 8.734375 54.109375 11.28125 \r\nL 54.109375 2.78125 \r\nQ 49.265625 0.734375 44.1875 -0.34375 \r\nQ 39.109375 -1.421875 33.890625 -1.421875 \r\nQ 20.796875 -1.421875 13.15625 6.1875 \r\nQ 5.515625 13.8125 5.515625 26.8125 \r\nQ 5.515625 40.234375 12.765625 48.109375 \r\nQ 20.015625 56 32.328125 56 \r\nQ 43.359375 56 49.78125 48.890625 \r\nQ 56.203125 41.796875 56.203125 29.59375 \r\nz\r\nM 47.21875 32.234375 \r\nQ 47.125 39.59375 43.09375 43.984375 \r\nQ 39.0625 48.390625 32.421875 48.390625 \r\nQ 24.90625 48.390625 20.390625 44.140625 \r\nQ 15.875 39.890625 15.1875 32.171875 \r\nz\r\n\" id=\"DejaVuSans-101\"/>\r\n      <path d=\"M 45.40625 46.390625 \r\nL 45.40625 75.984375 \r\nL 54.390625 75.984375 \r\nL 54.390625 0 \r\nL 45.40625 0 \r\nL 45.40625 8.203125 \r\nQ 42.578125 3.328125 38.25 0.953125 \r\nQ 33.9375 -1.421875 27.875 -1.421875 \r\nQ 17.96875 -1.421875 11.734375 6.484375 \r\nQ 5.515625 14.40625 5.515625 27.296875 \r\nQ 5.515625 40.1875 11.734375 48.09375 \r\nQ 17.96875 56 27.875 56 \r\nQ 33.9375 56 38.25 53.625 \r\nQ 42.578125 51.265625 45.40625 46.390625 \r\nz\r\nM 14.796875 27.296875 \r\nQ 14.796875 17.390625 18.875 11.75 \r\nQ 22.953125 6.109375 30.078125 6.109375 \r\nQ 37.203125 6.109375 41.296875 11.75 \r\nQ 45.40625 17.390625 45.40625 27.296875 \r\nQ 45.40625 37.203125 41.296875 42.84375 \r\nQ 37.203125 48.484375 30.078125 48.484375 \r\nQ 22.953125 48.484375 18.875 42.84375 \r\nQ 14.796875 37.203125 14.796875 27.296875 \r\nz\r\n\" id=\"DejaVuSans-100\"/>\r\n      <path d=\"M 11.71875 12.40625 \r\nL 22.015625 12.40625 \r\nL 22.015625 0 \r\nL 11.71875 0 \r\nz\r\nM 11.71875 51.703125 \r\nL 22.015625 51.703125 \r\nL 22.015625 39.3125 \r\nL 11.71875 39.3125 \r\nz\r\n\" id=\"DejaVuSans-58\"/>\r\n      <path id=\"DejaVuSans-32\"/>\r\n      <path d=\"M 34.1875 63.1875 \r\nL 20.796875 26.90625 \r\nL 47.609375 26.90625 \r\nz\r\nM 28.609375 72.90625 \r\nL 39.796875 72.90625 \r\nL 67.578125 0 \r\nL 57.328125 0 \r\nL 50.6875 18.703125 \r\nL 17.828125 18.703125 \r\nL 11.1875 0 \r\nL 0.78125 0 \r\nz\r\n\" id=\"DejaVuSans-65\"/>\r\n      <path d=\"M 54.890625 33.015625 \r\nL 54.890625 0 \r\nL 45.90625 0 \r\nL 45.90625 32.71875 \r\nQ 45.90625 40.484375 42.875 44.328125 \r\nQ 39.84375 48.1875 33.796875 48.1875 \r\nQ 26.515625 48.1875 22.3125 43.546875 \r\nQ 18.109375 38.921875 18.109375 30.90625 \r\nL 18.109375 0 \r\nL 9.078125 0 \r\nL 9.078125 54.6875 \r\nL 18.109375 54.6875 \r\nL 18.109375 46.1875 \r\nQ 21.34375 51.125 25.703125 53.5625 \r\nQ 30.078125 56 35.796875 56 \r\nQ 45.21875 56 50.046875 50.171875 \r\nQ 54.890625 44.34375 54.890625 33.015625 \r\nz\r\n\" id=\"DejaVuSans-110\"/>\r\n      <path d=\"M 9.078125 75.984375 \r\nL 18.109375 75.984375 \r\nL 18.109375 31.109375 \r\nL 44.921875 54.6875 \r\nL 56.390625 54.6875 \r\nL 27.390625 29.109375 \r\nL 57.625 0 \r\nL 45.90625 0 \r\nL 18.109375 26.703125 \r\nL 18.109375 0 \r\nL 9.078125 0 \r\nz\r\n\" id=\"DejaVuSans-107\"/>\r\n      <path d=\"M 9.421875 75.984375 \r\nL 18.40625 75.984375 \r\nL 18.40625 0 \r\nL 9.421875 0 \r\nz\r\n\" id=\"DejaVuSans-108\"/>\r\n      <path d=\"M 48.6875 27.296875 \r\nQ 48.6875 37.203125 44.609375 42.84375 \r\nQ 40.53125 48.484375 33.40625 48.484375 \r\nQ 26.265625 48.484375 22.1875 42.84375 \r\nQ 18.109375 37.203125 18.109375 27.296875 \r\nQ 18.109375 17.390625 22.1875 11.75 \r\nQ 26.265625 6.109375 33.40625 6.109375 \r\nQ 40.53125 6.109375 44.609375 11.75 \r\nQ 48.6875 17.390625 48.6875 27.296875 \r\nz\r\nM 18.109375 46.390625 \r\nQ 20.953125 51.265625 25.265625 53.625 \r\nQ 29.59375 56 35.59375 56 \r\nQ 45.5625 56 51.78125 48.09375 \r\nQ 58.015625 40.1875 58.015625 27.296875 \r\nQ 58.015625 14.40625 51.78125 6.484375 \r\nQ 45.5625 -1.421875 35.59375 -1.421875 \r\nQ 29.59375 -1.421875 25.265625 0.953125 \r\nQ 20.953125 3.328125 18.109375 8.203125 \r\nL 18.109375 0 \r\nL 9.078125 0 \r\nL 9.078125 75.984375 \r\nL 18.109375 75.984375 \r\nz\r\n\" id=\"DejaVuSans-98\"/>\r\n      <path d=\"M 30.609375 48.390625 \r\nQ 23.390625 48.390625 19.1875 42.75 \r\nQ 14.984375 37.109375 14.984375 27.296875 \r\nQ 14.984375 17.484375 19.15625 11.84375 \r\nQ 23.34375 6.203125 30.609375 6.203125 \r\nQ 37.796875 6.203125 41.984375 11.859375 \r\nQ 46.1875 17.53125 46.1875 27.296875 \r\nQ 46.1875 37.015625 41.984375 42.703125 \r\nQ 37.796875 48.390625 30.609375 48.390625 \r\nz\r\nM 30.609375 56 \r\nQ 42.328125 56 49.015625 48.375 \r\nQ 55.71875 40.765625 55.71875 27.296875 \r\nQ 55.71875 13.875 49.015625 6.21875 \r\nQ 42.328125 -1.421875 30.609375 -1.421875 \r\nQ 18.84375 -1.421875 12.171875 6.21875 \r\nQ 5.515625 13.875 5.515625 27.296875 \r\nQ 5.515625 40.765625 12.171875 48.375 \r\nQ 18.84375 56 30.609375 56 \r\nz\r\n\" id=\"DejaVuSans-111\"/>\r\n      <path d=\"M 18.3125 70.21875 \r\nL 18.3125 54.6875 \r\nL 36.8125 54.6875 \r\nL 36.8125 47.703125 \r\nL 18.3125 47.703125 \r\nL 18.3125 18.015625 \r\nQ 18.3125 11.328125 20.140625 9.421875 \r\nQ 21.96875 7.515625 27.59375 7.515625 \r\nL 36.8125 7.515625 \r\nL 36.8125 0 \r\nL 27.59375 0 \r\nQ 17.1875 0 13.234375 3.875 \r\nQ 9.28125 7.765625 9.28125 18.015625 \r\nL 9.28125 47.703125 \r\nL 2.6875 47.703125 \r\nL 2.6875 54.6875 \r\nL 9.28125 54.6875 \r\nL 9.28125 70.21875 \r\nz\r\n\" id=\"DejaVuSans-116\"/>\r\n      <path d=\"M 11.71875 12.40625 \r\nL 22.015625 12.40625 \r\nL 22.015625 4 \r\nL 14.015625 -11.625 \r\nL 7.71875 -11.625 \r\nL 11.71875 4 \r\nz\r\n\" id=\"DejaVuSans-44\"/>\r\n      <path d=\"M 8.5 21.578125 \r\nL 8.5 54.6875 \r\nL 17.484375 54.6875 \r\nL 17.484375 21.921875 \r\nQ 17.484375 14.15625 20.5 10.265625 \r\nQ 23.53125 6.390625 29.59375 6.390625 \r\nQ 36.859375 6.390625 41.078125 11.03125 \r\nQ 45.3125 15.671875 45.3125 23.6875 \r\nL 45.3125 54.6875 \r\nL 54.296875 54.6875 \r\nL 54.296875 0 \r\nL 45.3125 0 \r\nL 45.3125 8.40625 \r\nQ 42.046875 3.421875 37.71875 1 \r\nQ 33.40625 -1.421875 27.6875 -1.421875 \r\nQ 18.265625 -1.421875 13.375 4.4375 \r\nQ 8.5 10.296875 8.5 21.578125 \r\nz\r\nM 31.109375 56 \r\nz\r\n\" id=\"DejaVuSans-117\"/>\r\n     </defs>\r\n     <use xlink:href=\"#DejaVuSans-121\"/>\r\n     <use x=\"59.179688\" xlink:href=\"#DejaVuSans-95\"/>\r\n     <use x=\"109.179688\" xlink:href=\"#DejaVuSans-112\"/>\r\n     <use x=\"172.65625\" xlink:href=\"#DejaVuSans-114\"/>\r\n     <use x=\"211.519531\" xlink:href=\"#DejaVuSans-101\"/>\r\n     <use x=\"273.042969\" xlink:href=\"#DejaVuSans-100\"/>\r\n     <use x=\"336.519531\" xlink:href=\"#DejaVuSans-58\"/>\r\n     <use x=\"370.210938\" xlink:href=\"#DejaVuSans-32\"/>\r\n     <use x=\"401.998047\" xlink:href=\"#DejaVuSans-65\"/>\r\n     <use x=\"470.40625\" xlink:href=\"#DejaVuSans-110\"/>\r\n     <use x=\"533.785156\" xlink:href=\"#DejaVuSans-107\"/>\r\n     <use x=\"591.695312\" xlink:href=\"#DejaVuSans-108\"/>\r\n     <use x=\"619.478516\" xlink:href=\"#DejaVuSans-101\"/>\r\n     <use x=\"681.001953\" xlink:href=\"#DejaVuSans-32\"/>\r\n     <use x=\"712.789062\" xlink:href=\"#DejaVuSans-98\"/>\r\n     <use x=\"776.265625\" xlink:href=\"#DejaVuSans-111\"/>\r\n     <use x=\"837.447266\" xlink:href=\"#DejaVuSans-111\"/>\r\n     <use x=\"898.628906\" xlink:href=\"#DejaVuSans-116\"/>\r\n     <use x=\"937.837891\" xlink:href=\"#DejaVuSans-44\"/>\r\n     <use x=\"969.625\" xlink:href=\"#DejaVuSans-32\"/>\r\n     <use x=\"1001.412109\" xlink:href=\"#DejaVuSans-121\"/>\r\n     <use x=\"1060.591797\" xlink:href=\"#DejaVuSans-95\"/>\r\n     <use x=\"1110.591797\" xlink:href=\"#DejaVuSans-116\"/>\r\n     <use x=\"1149.800781\" xlink:href=\"#DejaVuSans-114\"/>\r\n     <use x=\"1190.914062\" xlink:href=\"#DejaVuSans-117\"/>\r\n     <use x=\"1254.292969\" xlink:href=\"#DejaVuSans-101\"/>\r\n     <use x=\"1315.816406\" xlink:href=\"#DejaVuSans-58\"/>\r\n     <use x=\"1349.507812\" xlink:href=\"#DejaVuSans-32\"/>\r\n     <use x=\"1381.294922\" xlink:href=\"#DejaVuSans-65\"/>\r\n     <use x=\"1449.703125\" xlink:href=\"#DejaVuSans-110\"/>\r\n     <use x=\"1513.082031\" xlink:href=\"#DejaVuSans-107\"/>\r\n     <use x=\"1570.992188\" xlink:href=\"#DejaVuSans-108\"/>\r\n     <use x=\"1598.775391\" xlink:href=\"#DejaVuSans-101\"/>\r\n     <use x=\"1660.298828\" xlink:href=\"#DejaVuSans-32\"/>\r\n     <use x=\"1692.085938\" xlink:href=\"#DejaVuSans-98\"/>\r\n     <use x=\"1755.5625\" xlink:href=\"#DejaVuSans-111\"/>\r\n     <use x=\"1816.744141\" xlink:href=\"#DejaVuSans-111\"/>\r\n     <use x=\"1877.925781\" xlink:href=\"#DejaVuSans-116\"/>\r\n    </g>\r\n   </g>\r\n  </g>\r\n </g>\r\n <defs>\r\n  <clipPath id=\"pbdd88528d5\">\r\n   <rect height=\"217.44\" width=\"217.44\" x=\"26.925\" y=\"22.318125\"/>\r\n  </clipPath>\r\n </defs>\r\n</svg>\r\n",
      "image/png": "[encoded data removed]"
     },
     "metadata": {
      "needs_background": "light"
     }
    }
   ],
   "source": [
    "model.eval()\n",
    "x, y = test_data[0]\n",
    "pred = model(x)\n",
    "\n",
    "classes = training_data.classes\n",
    "\n",
    "predicted = classes[pred[0].argmax(0)]\n",
    "actual = classes[y]\n",
    "\n",
    "plt.title(f'y_pred: {predicted}, y_true: {actual}')\n",
    "plt.imshow(x[0], cmap = matplotlib.cm.binary)"
   ]
  },
  {
   "cell_type": "code",
   "execution_count": null,
   "metadata": {},
   "outputs": [],
   "source": []
  }
 ]
}