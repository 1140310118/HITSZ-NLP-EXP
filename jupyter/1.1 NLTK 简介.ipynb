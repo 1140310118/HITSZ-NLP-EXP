{
 "cells": [
  {
   "cell_type": "markdown",
   "metadata": {},
   "source": [
    "## 提纲\n",
    "\n",
    "本次实验课的主要内容有\n",
    "- 简要介绍nltk\n",
    "- 简要介绍gensim\n",
    "- 通过以下三种方法实现一个简单的情感分类器\n",
    "    - ngram特征+朴素贝叶斯\n",
    "    - 情感词典\n",
    "    - 词向量+SVM"
   ]
  },
  {
   "cell_type": "markdown",
   "metadata": {},
   "source": [
    "## 1.1 NLTK\n",
    "\n",
    "NLTK的全称是Natural Language Toolkit，是一个非常经典的自然语言处理工具。\n",
    "\n",
    "官网：http://www.nltk.org/\n",
    "\n",
    "NLTK可以处理自然语言处理中的绝大多数基础任务，并包含50多种常用语料库。\n",
    "\n",
    "- tokenize\n",
    "- 词性标注\n",
    "- 词形还原\n",
    "- 词干提取\n",
    "- 句法解析\n",
    "- 停用词\n",
    "- wordnet\n",
    "- ...\n"
   ]
  },
  {
   "cell_type": "markdown",
   "metadata": {},
   "source": [
    "### Tokenize\n",
    "\n",
    "首先来看NLP处理中最基本的步骤，做分词。我们对下面这句话最分词："
   ]
  },
  {
   "cell_type": "code",
   "execution_count": 11,
   "metadata": {},
   "outputs": [
    {
     "output_type": "execute_result",
     "data": {
      "text/plain": [
       "\"Two plus two is four, minus one that's three — quick maths. Every day man's on the block. Smoke trees. See your girl in the park, that girl is an uckers. When the thing went quack quack quack, your men were ducking! Hold tight Asznee, my brother. He's got a pumpy. Hold tight my man, my guy. He's got a frisbee. I trap, trap, trap on the phone. Moving that cornflakes, rice crispies. Hold tight my girl Whitney.\""
      ]
     },
     "metadata": {},
     "execution_count": 11
    }
   ],
   "source": [
    "my_string = \"Two plus two is four, minus one that's three — quick maths. Every day man's on the block. Smoke trees. See your girl in the park, that girl is an uckers. When the thing went quack quack quack, your men were ducking! Hold tight Asznee, my brother. He's got a pumpy. Hold tight my man, my guy. He's got a frisbee. I trap, trap, trap on the phone. Moving that cornflakes, rice crispies. Hold tight my girl Whitney.\"\n",
    "my_string"
   ]
  },
  {
   "cell_type": "markdown",
   "metadata": {},
   "source": [
    "**使用python最基础的分词方法来对下面这句话做分词**"
   ]
  },
  {
   "cell_type": "code",
   "execution_count": 2,
   "metadata": {},
   "outputs": [
    {
     "name": "stdout",
     "output_type": "stream",
     "text": [
      "['Two', 'plus', 'two', 'is', 'four,', 'minus', 'one', \"that's\", 'three', '—', 'quick', 'maths.', 'Every', 'day', \"man's\", 'on', 'the', 'block.', 'Smoke', 'trees.', 'See', 'your', 'girl', 'in', 'the', 'park,', 'that', 'girl', 'is', 'an', 'uckers.', 'When', 'the', 'thing', 'went', 'quack', 'quack', 'quack,', 'your', 'men', 'were', 'ducking!', 'Hold', 'tight', 'Asznee,', 'my', 'brother.', \"He's\", 'got', 'a', 'pumpy.', 'Hold', 'tight', 'my', 'man,', 'my', 'guy.', \"He's\", 'got', 'a', 'frisbee.', 'I', 'trap,', 'trap,', 'trap', 'on', 'the', 'phone.', 'Moving', 'that', 'cornflakes,', 'rice', 'crispies.', 'Hold', 'tight', 'my', 'girl', 'Whitney.']\n"
     ]
    }
   ],
   "source": [
    "tokenized_by_space = my_string.split()\n",
    "print(tokenized_by_space)"
   ]
  },
  {
   "cell_type": "markdown",
   "metadata": {},
   "source": [
    "**使用nltk的分词器来对下面这句话做分词**"
   ]
  },
  {
   "cell_type": "code",
   "execution_count": 12,
   "metadata": {},
   "outputs": [
    {
     "output_type": "stream",
     "name": "stdout",
     "text": [
      "['Two', 'plus', 'two', 'is', 'four', ',', 'minus', 'one', 'that', \"'s\", 'three', '—', 'quick', 'maths', '.', 'Every', 'day', 'man', \"'s\", 'on', 'the', 'block', '.', 'Smoke', 'trees', '.', 'See', 'your', 'girl', 'in', 'the', 'park', ',', 'that', 'girl', 'is', 'an', 'uckers', '.', 'When', 'the', 'thing', 'went', 'quack', 'quack', 'quack', ',', 'your', 'men', 'were', 'ducking', '!', 'Hold', 'tight', 'Asznee', ',', 'my', 'brother', '.', 'He', \"'s\", 'got', 'a', 'pumpy', '.', 'Hold', 'tight', 'my', 'man', ',', 'my', 'guy', '.', 'He', \"'s\", 'got', 'a', 'frisbee', '.', 'I', 'trap', ',', 'trap', ',', 'trap', 'on', 'the', 'phone', '.', 'Moving', 'that', 'cornflakes', ',', 'rice', 'crispies', '.', 'Hold', 'tight', 'my', 'girl', 'Whitney', '.']\n"
     ]
    }
   ],
   "source": [
    "from nltk.tokenize import word_tokenize\n",
    "\n",
    "tokenized_by_nltk = word_tokenize(my_string)\n",
    "\n",
    "print(tokenized_by_nltk)"
   ]
  },
  {
   "cell_type": "markdown",
   "metadata": {},
   "source": [
    "**同理，可以用nltk实现分句**"
   ]
  },
  {
   "cell_type": "code",
   "execution_count": 15,
   "metadata": {},
   "outputs": [
    {
     "output_type": "execute_result",
     "data": {
      "text/plain": [
       "[\"Two plus two is four, minus one that's three — quick maths.\",\n",
       " \"Every day man's on the block.\",\n",
       " 'Smoke trees.',\n",
       " 'See your girl in the park, that girl is an uckers.',\n",
       " 'When the thing went quack quack quack, your men were ducking!',\n",
       " 'Hold tight Asznee, my brother.',\n",
       " \"He's got a pumpy.\",\n",
       " 'Hold tight my man, my guy.',\n",
       " \"He's got a frisbee.\",\n",
       " 'I trap, trap, trap on the phone.',\n",
       " 'Moving that cornflakes, rice crispies.',\n",
       " 'Hold tight my girl Whitney.']"
      ]
     },
     "metadata": {},
     "execution_count": 15
    }
   ],
   "source": [
    "from nltk.tokenize import sent_tokenize\n",
    "\n",
    "sentences = sent_tokenize(my_string)\n",
    "sentences"
   ]
  },
  {
   "cell_type": "markdown",
   "metadata": {},
   "source": [
    "**做一个词频统计**\n",
    "\n",
    "词频（term frequency，TF）指的是某一个给定的词语在语料库中出现的次数。\n",
    "词频信息是反映语料库特征一个的基本统计量。\n",
    "- 政府工作报告中的高频词\n",
    "- 使用词频推断红楼梦后40回是否为续写\n",
    "- 通过词频的变化来观察社会的变迁\n",
    "- 英语考试中重点词汇\n"
   ]
  },
  {
   "cell_type": "code",
   "execution_count": 5,
   "metadata": {},
   "outputs": [
    {
     "data": {
      "image/png": "[encoded data removed]",
      "text/plain": [
       "<Figure size 432x288 with 1 Axes>"
      ]
     },
     "metadata": {
      "needs_background": "light"
     },
     "output_type": "display_data"
    },
    {
     "data": {
      "text/plain": [
       "<AxesSubplot:xlabel='Samples', ylabel='Counts'>"
      ]
     },
     "execution_count": 5,
     "metadata": {},
     "output_type": "execute_result"
    }
   ],
   "source": [
    "from nltk import FreqDist\n",
    "\n",
    "fdist = FreqDist(tokenized_by_nltk)\n",
    "fdist.plot(10)"
   ]
  },
  {
   "cell_type": "markdown",
   "metadata": {},
   "source": [
    "### 词性标注, 词形还原，词干提取\n"
   ]
  },
  {
   "cell_type": "code",
   "execution_count": 16,
   "metadata": {},
   "outputs": [
    {
     "output_type": "execute_result",
     "data": {
      "text/plain": [
       "[('Two', 'CD'),\n",
       " ('plus', 'CC'),\n",
       " ('two', 'CD'),\n",
       " ('is', 'VBZ'),\n",
       " ('four', 'CD'),\n",
       " (',', ','),\n",
       " ('minus', 'CC'),\n",
       " ('one', 'CD'),\n",
       " ('that', 'WDT'),\n",
       " (\"'s\", 'VBZ'),\n",
       " ('three', 'CD'),\n",
       " ('—', 'NNP'),\n",
       " ('quick', 'JJ'),\n",
       " ('maths', 'NNS'),\n",
       " ('.', '.')]"
      ]
     },
     "metadata": {},
     "execution_count": 16
    }
   ],
   "source": [
    "from nltk import pos_tag\n",
    "\n",
    "# sentences是刚才使用句子级别分词器分好的句子\n",
    "first_sentence = sentences[0]\n",
    "# 使用词级别分词器进行分词\n",
    "first_sentence_tokenized = word_tokenize(first_sentence)\n",
    "# 进行词性标注\n",
    "pos_result = pos_tag(first_sentence_tokenized)\n",
    "\n",
    "pos_result"
   ]
  },
  {
   "cell_type": "code",
   "execution_count": 17,
   "metadata": {},
   "outputs": [
    {
     "output_type": "stream",
     "name": "stdout",
     "text": [
      "JJ: adjective or numeral, ordinal\n    third ill-mannered pre-war regrettable oiled calamitous first separable\n    ectoplasmic battery-powered participatory fourth still-to-be-named\n    multilingual multi-disciplinary ...\n"
     ]
    }
   ],
   "source": [
    "import nltk\n",
    "nltk.help.upenn_tagset('JJ')"
   ]
  },
  {
   "cell_type": "code",
   "execution_count": 7,
   "metadata": {},
   "outputs": [
    {
     "name": "stdout",
     "output_type": "stream",
     "text": [
      "test\n",
      "test\n"
     ]
    }
   ],
   "source": [
    "# 词干提取 stemming\n",
    "\n",
    "# from nltk.stem import PorterStemmer, LancasterStemmer\n",
    "from nltk.stem.snowball import SnowballStemmer\n",
    "\n",
    "snowball = SnowballStemmer('english')\n",
    "\n",
    "print(snowball.stem('testing'))\n",
    "print(snowball.stem('tested'))"
   ]
  },
  {
   "cell_type": "code",
   "execution_count": 8,
   "metadata": {},
   "outputs": [
    {
     "name": "stdout",
     "output_type": "stream",
     "text": [
      "brightening\n",
      "box\n",
      "brighten\n"
     ]
    }
   ],
   "source": [
    "# 词形还原 lemmatizing\n",
    "\n",
    "from nltk import WordNetLemmatizer\n",
    "\n",
    "wnl = WordNetLemmatizer()\n",
    "\n",
    "print(wnl.lemmatize('brightening'))\n",
    "print(wnl.lemmatize('boxes'))\n",
    "print(wnl.lemmatize('brightening', pos='v'))"
   ]
  },
  {
   "cell_type": "markdown",
   "metadata": {},
   "source": [
    "## 情感分类"
   ]
  },
  {
   "cell_type": "code",
   "execution_count": 8,
   "metadata": {},
   "outputs": [
    {
     "output_type": "stream",
     "name": "stdout",
     "text": [
      "train: 1600\ntest: 400\n"
     ]
    }
   ],
   "source": [
    "from nltk.corpus import movie_reviews\n",
    "import random\n",
    "random.seed(42)\n",
    "\n",
    "\n",
    "def load_movie_reviews():\n",
    "    # 取出正负样本的标号\n",
    "    pos_ids = movie_reviews.fileids('pos')\n",
    "    neg_ids = movie_reviews.fileids('neg')\n",
    "    \n",
    "    # 构建数据集\n",
    "    all_reviews = []\n",
    "    for pids in pos_ids:\n",
    "        all_reviews.append((movie_reviews.raw(pids), 'positive'))\n",
    "    \n",
    "    for nids in neg_ids:\n",
    "        all_reviews.append((movie_reviews.raw(nids), 'negative'))\n",
    "        \n",
    "    # 随机打乱\n",
    "    random.shuffle(all_reviews)\n",
    "    \n",
    "    # 切分训练集和测试集\n",
    "    train_reviews = all_reviews[:1600]\n",
    "    test_reviews = all_reviews[1600:]\n",
    "\n",
    "    return train_reviews, test_reviews\n",
    "\n",
    "train_reviews, test_reviews = load_movie_reviews()\n",
    "print('train:', len(train_reviews))\n",
    "print('test:', len(test_reviews))"
   ]
  },
  {
   "cell_type": "code",
   "execution_count": 10,
   "metadata": {},
   "outputs": [
    {
     "data": {
      "text/plain": [
       "(\"saving private ryan ( dreamworks ) running time : 2 hours 48 minutes . \\nstarring tom hanks , edward burns , tom sizemore and matt damon directed by steven spielberg already being hailed as the 'greatest war movie ever made , ' saving private ryan is an harrowing , saddening and riveting movie . \\nit may not be the greatest war movie in my opinion , but it's certainly one of the best war movies made , and one of the best of 1998 . \\ntom hanks stars as a captain who's troop has to find private ryan ( damon ) who has a ticket home because his three brothers have been killed in action . \\naction , drama and even some humour occur as the troop journeys through wartime france to find him . \\nafter the disappointing amistad ( 1997 ) spielberg has returned to form with this excellent movie . \\ni'm not the war movie genre biggest fan , but i found this film to be gripping , and very scary , thanks to the excellent cast , direction and terrifying battle scenes . \\ntom hanks is superb , straying away from his usually soppy dramatic roles , such as in forrest gump ( 1994 ) . \\nthis time , he plays the role with gritty realism , and is much better for it . \\noccasionally he overacts the sentimentally , but he generally delivers a fine performance . \\nedward burns , looking a lot like armageddon's ben affleck , also delivers a top notch performance , moving away from his roles in films such as she's the one ( 1996 ) tom sizemore makes less of an impact , but is still watchable , and matt damon reinforcing his position as one of the finest young actors working today . \\nspielberg directs very well , putting the audience right in the heart of the action of the battle scenes . \\nand what battle scenes they are ! \\nthey're truly terrifying , yet the audience cannot drag their eyes away from the screen . \\nthe battle scenes are filmed with a jerky hand-held camera , and the panic and confusion felt by the soldiers is emphasized by this technique . \\nthe gore and violence isn't spared either , which body parts flying , and blood spurting . \\nthis film is certainly not for kids and sensitive adults . \\nother factors help saving private ryan be a masterpiece of 90's film making . \\nthe cinematography is excellent , and the music score by john william's is also superb . \\nit is never intrusive , and adds to the drama on-screen . \\nbut while they are thousands of good things great about private ryan , there's one major flaw that detracts the genius of the film : the writing . \\nit is unusually flat , with many of the speeches strangely weak . \\nthe film never really makes any profound statements . \\nthis is not a major gripe , as private ryan is a film of action , not words . \\nstill , the script could of been a lot better . \\nthankfully , the actors help partly to rectify the situation with their great delivery of their lines . \\nsaving private ryan , in the end , is an excellent film , but not the 'greatest war movie' due to it's weak acting . \\nthis film should be viewed by everyone who has the stomach for it , as it's rewarding and extremely worthwhile . \\nit really shouldn't be missed , and dreamworks skg has finally found it's first hit movie . \\n\",\n",
       " 'positive')"
      ]
     },
     "execution_count": 10,
     "metadata": {},
     "output_type": "execute_result"
    }
   ],
   "source": [
    "# 查看一个训练样例\n",
    "train_reviews[2]"
   ]
  },
  {
   "cell_type": "code",
   "execution_count": 11,
   "metadata": {},
   "outputs": [],
   "source": [
    "# 尝试构建第一个特征抽取器 把每一个词都看作一个特征\n",
    "def extract_feature1(text):\n",
    "    feature = {}\n",
    "    text = text.lower()\n",
    "    for word in word_tokenize(text):\n",
    "        feature[f'contain: {word}'] = True\n",
    "    return feature"
   ]
  },
  {
   "cell_type": "code",
   "execution_count": 12,
   "metadata": {},
   "outputs": [],
   "source": [
    "# extract_feature1(train_reviews[2][0])"
   ]
  },
  {
   "cell_type": "code",
   "execution_count": 4,
   "metadata": {},
   "outputs": [],
   "source": [
    "from nltk import NaiveBayesClassifier\n",
    "import nltk\n",
    "\n",
    "def train_and_test(extract_feature, train_data, test_data):\n",
    "    training_set = nltk.classify.apply_features(extract_feature, train_data)\n",
    "    test_set = nltk.classify.apply_features(extract_feature, test_data)\n",
    "\n",
    "    classifier = NaiveBayesClassifier.train(training_set)\n",
    "    accuracy = nltk.classify.util.accuracy(classifier, test_set)\n",
    "    print(f'accuracy is {accuracy:.4f}')\n",
    "\n",
    "    return classifier\n"
   ]
  },
  {
   "cell_type": "code",
   "execution_count": 14,
   "metadata": {},
   "outputs": [
    {
     "name": "stdout",
     "output_type": "stream",
     "text": [
      "accuracy is 0.7450\n"
     ]
    }
   ],
   "source": [
    "model1 = train_and_test(extract_feature1, train_reviews, test_reviews)"
   ]
  },
  {
   "cell_type": "code",
   "execution_count": 15,
   "metadata": {},
   "outputs": [
    {
     "name": "stdout",
     "output_type": "stream",
     "text": [
      "Most Informative Features\n",
      "          contain: sucks = True           negati : positi =     15.1 : 1.0\n",
      "       contain: nonsense = True           negati : positi =     13.1 : 1.0\n",
      "     contain: astounding = True           positi : negati =     11.6 : 1.0\n",
      "    contain: outstanding = True           positi : negati =     11.6 : 1.0\n",
      "      contain: stupidity = True           negati : positi =     11.1 : 1.0\n",
      "      contain: atrocious = True           negati : positi =     11.1 : 1.0\n",
      "         contain: seagal = True           negati : positi =     10.4 : 1.0\n",
      "         contain: avoids = True           positi : negati =     10.3 : 1.0\n",
      "         contain: finest = True           positi : negati =      9.8 : 1.0\n",
      "       contain: one-note = True           negati : positi =      9.7 : 1.0\n"
     ]
    }
   ],
   "source": [
    "model1.show_most_informative_features()"
   ]
  },
  {
   "cell_type": "code",
   "execution_count": 16,
   "metadata": {},
   "outputs": [
    {
     "data": {
      "text/plain": [
       "'positive'"
      ]
     },
     "execution_count": 16,
     "metadata": {},
     "output_type": "execute_result"
    }
   ],
   "source": [
    "sentence = 'it is a wonderful movie'\n",
    "feature = extract_feature1(sentence)\n",
    "\n",
    "model1.classify(feature)"
   ]
  },
  {
   "cell_type": "code",
   "execution_count": 6,
   "metadata": {},
   "outputs": [],
   "source": [
    "# 只考虑形容词\n",
    "\n",
    "def extract_feature2(text):\n",
    "    text = text.lower()\n",
    "    feature = {}\n",
    "    tokens = word_tokenize(text)\n",
    "    for word, pos in pos_tag(tokens):\n",
    "        if pos == 'JJ':\n",
    "            feature[f'contain: {word}'] = True\n",
    "    return feature"
   ]
  },
  {
   "cell_type": "code",
   "execution_count": 18,
   "metadata": {},
   "outputs": [],
   "source": [
    "# extract_feature2(train_reviews[2][0])"
   ]
  },
  {
   "cell_type": "code",
   "execution_count": 18,
   "metadata": {},
   "outputs": [
    {
     "output_type": "stream",
     "name": "stdout",
     "text": [
      "accuracy is 0.7250\n"
     ]
    }
   ],
   "source": [
    "model2 = train_and_test(extract_feature2, train_reviews, test_reviews)"
   ]
  },
  {
   "source": [
    "思考：该分类器性能不行？"
   ],
   "cell_type": "markdown",
   "metadata": {}
  },
  {
   "cell_type": "code",
   "execution_count": 20,
   "metadata": {},
   "outputs": [
    {
     "name": "stdout",
     "output_type": "stream",
     "text": [
      "Most Informative Features\n",
      "    contain: outstanding = True           positi : negati =     11.6 : 1.0\n",
      "      contain: atrocious = True           negati : positi =     11.1 : 1.0\n",
      "       contain: one-note = True           negati : positi =      9.7 : 1.0\n",
      "      contain: ludicrous = True           negati : positi =      9.6 : 1.0\n",
      "          contain: fairy = True           positi : negati =      9.6 : 1.0\n",
      "     contain: unbearable = True           negati : positi =      9.0 : 1.0\n",
      "          contain: worst = True           negati : positi =      9.0 : 1.0\n",
      "         contain: truman = True           positi : negati =      9.0 : 1.0\n",
      "     contain: accessible = True           positi : negati =      8.3 : 1.0\n",
      "       contain: seamless = True           positi : negati =      8.3 : 1.0\n"
     ]
    }
   ],
   "source": [
    "model2.show_most_informative_features()"
   ]
  },
  {
   "cell_type": "code",
   "execution_count": 21,
   "metadata": {},
   "outputs": [],
   "source": [
    "# 利用bigram\n",
    "\n",
    "from nltk import ngrams\n",
    "\n",
    "\n",
    "def extract_feature3(text):\n",
    "    text = text.lower()\n",
    "    feature = {}\n",
    "    tokens = word_tokenize(text)\n",
    "    for word in tokens:\n",
    "        feature[f'contain: {word}'] = True\n",
    "    for bigram in ngrams(tokens, 2):\n",
    "        bigram = ' '.join(bigram)\n",
    "        feature[bigram] = True\n",
    "    return feature"
   ]
  },
  {
   "cell_type": "code",
   "execution_count": 22,
   "metadata": {},
   "outputs": [
    {
     "name": "stdout",
     "output_type": "stream",
     "text": [
      "accuracy is 0.7775\n"
     ]
    }
   ],
   "source": [
    "model3 = train_and_test(extract_feature3, train_reviews, test_reviews)"
   ]
  },
  {
   "cell_type": "code",
   "execution_count": 23,
   "metadata": {},
   "outputs": [
    {
     "name": "stdout",
     "output_type": "stream",
     "text": [
      "Most Informative Features\n",
      "          contain: sucks = True           negati : positi =     15.1 : 1.0\n",
      "       contain: nonsense = True           negati : positi =     13.1 : 1.0\n",
      "                to waste = True           negati : positi =     13.1 : 1.0\n",
      "              matt damon = True           positi : negati =     12.3 : 1.0\n",
      "               insult to = True           negati : positi =     11.7 : 1.0\n",
      "            saving grace = True           negati : positi =     11.7 : 1.0\n",
      "               . cameron = True           positi : negati =     11.6 : 1.0\n",
      "     contain: astounding = True           positi : negati =     11.6 : 1.0\n",
      "              fairy tale = True           positi : negati =     11.6 : 1.0\n",
      "                 our own = True           positi : negati =     11.6 : 1.0\n",
      "    contain: outstanding = True           positi : negati =     11.6 : 1.0\n",
      "      contain: stupidity = True           negati : positi =     11.1 : 1.0\n",
      "                  so why = True           negati : positi =     11.1 : 1.0\n",
      "                waste of = True           negati : positi =     11.1 : 1.0\n",
      "                 & robin = True           negati : positi =     11.1 : 1.0\n",
      "                 awful . = True           negati : positi =     11.1 : 1.0\n",
      "                batman & = True           negati : positi =     11.1 : 1.0\n",
      "      contain: atrocious = True           negati : positi =     11.1 : 1.0\n",
      "           quite frankly = True           negati : positi =     11.1 : 1.0\n",
      "              and boring = True           negati : positi =     10.4 : 1.0\n"
     ]
    }
   ],
   "source": [
    "model3.show_most_informative_features(20)"
   ]
  },
  {
   "source": [
    "## 进一步的改进\n",
    "- 特征选择\n",
    "    - ngram会使得特征空间的大小快速增加\n",
    "    - 特征选择旨在初步剔除那些对分类无益的特征\n",
    "- 考虑词频信息，如TF-IDF\n",
    "    - 特征从一个词是否出现，变为这个词出现了多少次。特征的信息含量增加。\n",
    "- 处理否定词\n",
    "    - 将否定词+形容词，变为一个新的词\n",
    "    - 'not good' -> NOT_good\n",
    "- ..."
   ],
   "cell_type": "markdown",
   "metadata": {}
  }
 ],
 "metadata": {
  "kernelspec": {
   "name": "python3",
   "display_name": "Python 3.9.0 64-bit",
   "metadata": {
    "interpreter": {
     "hash": "12c989a2272087144a907f3af46e789b70a90abf7fd5b4372cac90cccd9eaa13"
    }
   }
  },
  "language_info": {
   "codemirror_mode": {
    "name": "ipython",
    "version": 3
   },
   "file_extension": ".py",
   "mimetype": "text/x-python",
   "name": "python",
   "nbconvert_exporter": "python",
   "pygments_lexer": "ipython3",
   "version": "3.9.0-final"
  }
 },
 "nbformat": 4,
 "nbformat_minor": 2
}